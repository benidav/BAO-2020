{
 "cells": [
  {
   "cell_type": "markdown",
   "metadata": {},
   "source": [
    "<h3>File written by David Benisty and Denitsa Staicova</h3> If you use it or parts of it, please cite <a href=\"https://arxiv.org/abs/2009.10701\"> arXiv:2009.10701 [astro-ph.CO]</a><br>\n",
    "Title: w-CDM v.1 <br>\n",
    "Last update: 15.12.2020"
   ]
  },
  {
   "cell_type": "code",
   "execution_count": 1,
   "metadata": {},
   "outputs": [],
   "source": [
    "from numpy import pi, log, sqrt\n",
    "import emcee\n",
    "import getdist\n",
    "import numpy as np\n",
    "from io import StringIO \n",
    "from getdist import plots, MCSamples\n",
    "import random\n",
    "from scipy.integrate import quad\n",
    "from scipy.integrate import odeint\n",
    "import scipy.integrate as integrate\n",
    "import matplotlib.pyplot as plt\n",
    "from scipy import stats \n",
    "import pypolychord\n",
    "from pypolychord.settings import PolyChordSettings\n",
    "from pypolychord.priors import UniformPrior, GaussianPrior\n",
    "import scipy.optimize as op\n",
    "from numpy.linalg import inv\n",
    "from mpi4py import MPI"
   ]
  },
  {
   "cell_type": "code",
   "execution_count": 2,
   "metadata": {},
   "outputs": [
    {
     "name": "stdout",
     "output_type": "stream",
     "text": [
      "['DVratio' 'DVratio' 'DArd' 'rdDV' 'DVratio' 'DArd' 'DVratio' 'Hxrd'\n",
      " 'DVrd' 'rdDV' 'DHrd' 'rdDV' 'rdDV' 'rdDV' 'DHrd' 'DAratio' 'DAratio']\n"
     ]
    }
   ],
   "source": [
    "# load Cosmic Chronometers dataset\n",
    "ccData = np.genfromtxt(\"./BAO/CC.txt\")\n",
    "# load Pantheon dataset\n",
    "panthData = np.genfromtxt(\"./BAO/binned_data.txt\")\n",
    "panthData = panthData[np.argsort(panthData[:,1])]\n",
    "# load GRB dataset\n",
    "GRBData = np.genfromtxt(\"./BAO/GRB.txt\")\n",
    "# load Quzars\n",
    "QuData = np.genfromtxt(\"./BAO/Quasars.txt\")\n",
    "\n",
    "\n",
    "#loading BAO data\n",
    "dirBD= \"./BAO/uncorBAO.txt\"\n",
    "#dirDJ= \"./BAO/data.txt\"\n",
    "BaoData = np.genfromtxt(dirBD)\n",
    "xarr = np.array(BaoData[:,0])    \n",
    "yarr = np.array(BaoData[:,1])\n",
    "dyarr = np.array(BaoData[:,2])\n",
    "\n",
    "funarr = np.genfromtxt(dirBD,dtype='str')[:,3]\n",
    "print(funarr)\n",
    "\n",
    "def modelArr(name):\n",
    "    mod = []\n",
    "\n",
    "    for j in range(len(funarr)):\n",
    "        if (funarr[j] == name):\n",
    "             mod.append([xarr[j],yarr[j],dyarr[j]])\n",
    "    mod = np.array(mod)\n",
    "    mod = mod[np.argsort(mod[:,0])]\n",
    "    return mod"
   ]
  },
  {
   "cell_type": "code",
   "execution_count": 3,
   "metadata": {},
   "outputs": [
    {
     "data": {
      "text/plain": [
       "array([222.14941548, 499.19838956, 887.07670709])"
      ]
     },
     "execution_count": 3,
     "metadata": {},
     "output_type": "execute_result"
    }
   ],
   "source": [
    "#H functions\n",
    "c = 299792.458\n",
    "\n",
    "def E(theta,z):\n",
    "    H0, Om, Ol, w, rd, rat = theta\n",
    "    return np.sqrt(Om*(1+z)**3 + Ol*(1+z)**(-3*(1+w)) + (1 - Om - Ol)*(1+z)**4)\n",
    "\n",
    "def H(theta,z):\n",
    "    H0, Om, Ol, w, rd, rat = theta\n",
    "    arr = []\n",
    "    \n",
    "    for j in range(len(z)):\n",
    "        arr.append(H0*E(theta,z[j]))\n",
    "    arr = np.array(arr)\n",
    "    return arr\n",
    "\n",
    "def Hxrd(theta,z):\n",
    "    H0, Om, Ol, w, rd, rat = theta\n",
    "    arr = []\n",
    "    \n",
    "    for j in range(len(z)):\n",
    "        arr.append(rd*H0*E(theta,z[j]))\n",
    "    arr = np.array(arr)\n",
    "    return arr\n",
    "\n",
    "def Hxratio(theta,z):\n",
    "    H0, Om, Ol, w, rd, rat = theta\n",
    "    arr = []\n",
    "    \n",
    "    for j in range(len(z)):\n",
    "        arr.append(H0*E(theta,z[j])*rat)\n",
    "    arr = np.array(arr)\n",
    "    return arr\n",
    "\n",
    "Hxratio([67,0.007,0.31,0.67,150,1],[1,2,3])"
   ]
  },
  {
   "cell_type": "code",
   "execution_count": 4,
   "metadata": {},
   "outputs": [
    {
     "data": {
      "text/plain": [
       "array([8.99672134, 4.00365151, 2.25303671])"
      ]
     },
     "execution_count": 4,
     "metadata": {},
     "output_type": "execute_result"
    }
   ],
   "source": [
    "#DH functions\n",
    "def DH(theta,z):\n",
    "    H0, Om, Ol, w, rd, rat = theta\n",
    "    arr = []\n",
    "    \n",
    "    for j in range(len(z)):\n",
    "        arr.append(c/(H0*E(theta,z[j])))\n",
    "    arr = np.array(arr)\n",
    "    return arr\n",
    "\n",
    "def DHrd(theta,z):\n",
    "    H0, Om, Ol, w, rd, rat = theta\n",
    "    arr = []\n",
    "    \n",
    "    for j in range(len(z)):\n",
    "        arr.append(c/(H0*E(theta,z[j])*rd))\n",
    "    arr = np.array(arr)\n",
    "    return arr\n",
    "\n",
    "DHrd([67,0.007,0.31,0.67,150,1],[1,2,3])"
   ]
  },
  {
   "cell_type": "code",
   "execution_count": 5,
   "metadata": {},
   "outputs": [],
   "source": [
    "def Sk(theta,x):\n",
    "    H0, Om, Ol, w, rd, rat = theta\n",
    "    Ok =0\n",
    "    if Ok < -10**(-15):\n",
    "        return np.sin(np.sqrt(-Ok)*x)/np.sqrt(-Ok)\n",
    "    #if Ok == 0:\n",
    "    #    return x\n",
    "    elif Ok > 10**(-15):\n",
    "        return np.sinh(np.sqrt(Ok)*x)/np.sqrt(Ok)\n",
    "    else:\n",
    "        return x"
   ]
  },
  {
   "cell_type": "code",
   "execution_count": 6,
   "metadata": {},
   "outputs": [
    {
     "data": {
      "text/plain": [
       "array([0.57952032, 0.7807338 , 0.88141732])"
      ]
     },
     "execution_count": 6,
     "metadata": {},
     "output_type": "execute_result"
    }
   ],
   "source": [
    "# function that returns dDC/dz,df/dz\n",
    "def dchidz(x,z, H0, Om, Ol, w, rd, rat):\n",
    "    return 1/E([H0, Om, Ol, w, rd, rat],z)\n",
    "\n",
    "def chiInt(theta,z):\n",
    "    H0, Om, Ol, w, rd, rat = theta \n",
    "    z = np.hstack((np.array((0)), z))\n",
    "    arr = odeint(dchidz,0,z,args=(H0, Om, Ol, w, rd, rat,))\n",
    "    return np.delete(arr ,0)\n",
    "\n",
    "chiInt([67,0.007,0.31,0.67,150,1],[1,2,3])"
   ]
  },
  {
   "cell_type": "code",
   "execution_count": 7,
   "metadata": {},
   "outputs": [
    {
     "data": {
      "text/plain": [
       "array([2593.07196501, 3493.40457117, 3943.91438461])"
      ]
     },
     "execution_count": 7,
     "metadata": {},
     "output_type": "execute_result"
    }
   ],
   "source": [
    "#DM \n",
    "\n",
    "def DM(theta,z):\n",
    "    H0, Om, Ol, w, rd, rat = theta \n",
    "    chi = chiInt(theta,z)\n",
    "    \n",
    "    arr = []\n",
    "    \n",
    "    for i in range(len(z)):\n",
    "        arr.append(c*Sk(theta,chi[i])/H0)\n",
    "    arr = np.array(arr)\n",
    "    arr.shape\n",
    "    return arr\n",
    "\n",
    "def DMrd(theta,z):\n",
    "    H0, Om, Ol, w, rd, rat = theta\n",
    "    chi = chiInt(theta,z)\n",
    "    \n",
    "    arr = []\n",
    "    \n",
    "    for i in range(len(z)):\n",
    "        arr.append(c*Sk(theta,chi[i])/(H0*rd))\n",
    "    arr = np.array(arr)\n",
    "    arr.shape\n",
    "    return arr\n",
    "\n",
    "def DMratio(theta,z):\n",
    "    H0, Om, Ol, w, rd, rat = theta \n",
    "    chi = chiInt(theta,z)\n",
    "    \n",
    "    arr = []\n",
    "    \n",
    "    for i in range(len(z)):\n",
    "        arr.append(c*Sk(theta,chi[i])/(H0*rat))\n",
    "    arr = np.array(arr)\n",
    "    arr.shape\n",
    "    return arr\n",
    "\n",
    "DMratio([67,0.007,0.31,0.67,150,1],[1,2,3])"
   ]
  },
  {
   "cell_type": "code",
   "execution_count": 8,
   "metadata": {},
   "outputs": [
    {
     "data": {
      "text/plain": [
       "array([1296.53598251, 1164.46819039,  985.97859615])"
      ]
     },
     "execution_count": 8,
     "metadata": {},
     "output_type": "execute_result"
    }
   ],
   "source": [
    "#DA \n",
    "\n",
    "def DA(theta,z):\n",
    "    H0, Om, Ol, w, rd, rat = theta \n",
    "    chi = chiInt(theta,z)\n",
    "    \n",
    "    arr = []\n",
    "    \n",
    "    for i in range(len(z)):\n",
    "        arr.append(c*Sk(theta,chi[i])/(H0*(z[i]+1)))\n",
    "    arr = np.array(arr)\n",
    "    arr.shape\n",
    "    return arr\n",
    "\n",
    "def DArd(theta,z):\n",
    "    H0, Om, Ol, w, rd, rat = theta \n",
    "    chi = chiInt(theta,z)\n",
    "    \n",
    "    arr = []\n",
    "    \n",
    "    for i in range(len(z)):\n",
    "        arr.append(c*Sk(theta,chi[i])/(H0*rd*(z[i]+1)))\n",
    "    arr = np.array(arr)\n",
    "    arr.shape\n",
    "    return arr\n",
    "\n",
    "def DAratio(theta,z):\n",
    "    H0, Om, Ol, w, rd, rat = theta \n",
    "    chi = chiInt(theta,z)\n",
    "    \n",
    "    arr = []\n",
    "    \n",
    "    for i in range(len(z)):\n",
    "        arr.append(c*Sk(theta,chi[i])/(H0*rat*(z[i]+1)))\n",
    "    arr = np.array(arr)\n",
    "    arr.shape\n",
    "    return arr\n",
    "\n",
    "DAratio([67,0.007,0.31,0.67,150,1],[1,2,3])"
   ]
  },
  {
   "cell_type": "code",
   "execution_count": 9,
   "metadata": {},
   "outputs": [
    {
     "data": {
      "text/plain": [
       "array([0.07191559, 0.06129139, 0.05981535])"
      ]
     },
     "execution_count": 9,
     "metadata": {},
     "output_type": "execute_result"
    }
   ],
   "source": [
    "#DV \n",
    "\n",
    "def DV(theta,z):\n",
    "    H0, Om, Ol, w, rd, rat = theta \n",
    "    dh = DH(theta,z)  \n",
    "    dm = DM(theta,z)\n",
    "    arr = []\n",
    "    \n",
    "    for i in range(len(z)):\n",
    "        arr.append(np.cbrt(z[i]*dh[i]*dm[i]**2))\n",
    "    arr = np.array(arr)\n",
    "    arr.shape\n",
    "    return arr\n",
    "\n",
    "def DVrd(theta,z):\n",
    "    H0, Om, Ol, w, rd, rat = theta \n",
    "    dh = DH(theta,z)  \n",
    "    dm = DM(theta,z)\n",
    "    arr = []\n",
    "    \n",
    "    for i in range(len(z)):\n",
    "        arr.append(np.cbrt(z[i]*dh[i]*dm[i]**2)/rd)\n",
    "    arr = np.array(arr)\n",
    "    arr.shape\n",
    "    return arr\n",
    "\n",
    "def DVratio(theta,z):\n",
    "    H0, Om, Ol, w, rd, rat = theta\n",
    "    dh = DH(theta,z)  \n",
    "    dm = DM(theta,z)\n",
    "    arr = []\n",
    "    \n",
    "    for i in range(len(z)):\n",
    "        arr.append(np.cbrt(z[i]*dh[i]*dm[i]**2)/rat)\n",
    "    arr = np.array(arr)\n",
    "    arr.shape\n",
    "    return arr\n",
    "\n",
    "def rdDV(theta,z):\n",
    "    H0, Om, Ol, w, rd, rat = theta\n",
    "    dh = DH(theta,z)  \n",
    "    dm = DM(theta,z)\n",
    "    arr = []\n",
    "    \n",
    "    for i in range(len(z)):\n",
    "        arr.append(rd/(np.cbrt(z[i]*dh[i]*dm[i]**2)))\n",
    "    arr = np.array(arr)\n",
    "    arr.shape\n",
    "    return arr\n",
    "\n",
    "rdDV([67,0.007,0.31,0.67,150,1],[1,2,3])"
   ]
  },
  {
   "cell_type": "code",
   "execution_count": 10,
   "metadata": {},
   "outputs": [],
   "source": [
    "def mu(theta,z):\n",
    "    DL = DM(theta,z)    \n",
    "    mu = []\n",
    "    \n",
    "    for i in range(len(z)):\n",
    "        mu.append(5*np.log10(DL[i]*(1+z[i])))\n",
    "    mu = np.array(mu)\n",
    "    mu.shape\n",
    "    return mu"
   ]
  },
  {
   "cell_type": "code",
   "execution_count": 11,
   "metadata": {},
   "outputs": [
    {
     "name": "stdout",
     "output_type": "stream",
     "text": [
      "(-661.7175844845771, [30, 27.571566020190712, 0.0])\n"
     ]
    }
   ],
   "source": [
    "def lnlike(theta, model,x,y,dy):\n",
    "    num = len(x)\n",
    "    chi2 = 0 \n",
    "    \n",
    "    prediction = model(theta,x)\n",
    "    for i in range(len(x)):\n",
    "        chi2 += ((prediction[i]-y[i])/dy[i])**2\n",
    "    return chi2\n",
    "\n",
    "def lnlikeCC(theta):\n",
    "    chi = 0; i = 0\n",
    "    chi += lnlike(theta,H,ccData[:,0], ccData[:,1], ccData[:,2]); i += len(ccData[:,0])\n",
    "    return -chi, [i, chi/(i-len(theta)),1-stats.chi2.cdf(x=chi, df=(i-len(theta)))]\n",
    "\n",
    "print(lnlikeCC([67,0.007,0.31,0.67,150,1]))"
   ]
  },
  {
   "cell_type": "code",
   "execution_count": 12,
   "metadata": {},
   "outputs": [],
   "source": [
    "# biuld the covariance matrix\n",
    "def covFromErr(error):\n",
    "    num = len(error)\n",
    "    cov = np.zeros((num,num))\n",
    "    for j in range(num):\n",
    "        cov[j,j] = error[j]**2\n",
    "    return inv(cov)\n",
    "\n",
    "def randCov(list_length,error):\n",
    "    num = len(error)\n",
    "    cov = np.zeros((num,num))\n",
    "    for j in range(num):\n",
    "        cov[j,j] = error[j]**2\n",
    "    # the covariance matrix for the uncorrelated data\n",
    "    randomList = random.sample(range(len(error)), list_length)\n",
    "    for i in range(len(randomList)):\n",
    "        for j in range(len(randomList)):\n",
    "            if (i!=j):\n",
    "                cov[i,j] += 0.5*error[i]*error[j]               \n",
    "    return inv(cov)"
   ]
  },
  {
   "cell_type": "code",
   "execution_count": 13,
   "metadata": {},
   "outputs": [
    {
     "name": "stdout",
     "output_type": "stream",
     "text": [
      "3528.262815064542\n",
      "3528.262815064542\n"
     ]
    }
   ],
   "source": [
    "# likelihood with covariance matrix\n",
    "def lnlikecov(theta,model,x,y,cov):\n",
    "    chi2 = 0 \n",
    "    prediction = []\n",
    "    #x = x*np.ones(len(model))\n",
    "    for i in range(len(model)):\n",
    "        fun = model[i]\n",
    "        prediction.append(eval(fun)(theta,[x[i]]))\n",
    "    prediction = np.array(prediction)[:,0]\n",
    "    prediction.shape\n",
    "    vec = (prediction - y)\n",
    "    \n",
    "    result = np.dot(np.dot(vec,cov),vec.T)\n",
    "    return result\n",
    "\n",
    "numUn = 0\n",
    "\n",
    "print(lnlikecov([67,0.007,0.31,0.67,150,1],funarr,np.array(BaoData[:,0]),np.array(BaoData[:,1]),covFromErr(np.array(BaoData[:,2]))))\n",
    "print(lnlikecov([67,0.007,0.31,0.67,150,1],funarr,np.array(BaoData[:,0]),np.array(BaoData[:,1]),randCov(numUn,np.array(BaoData[:,2]))))"
   ]
  },
  {
   "cell_type": "code",
   "execution_count": 14,
   "metadata": {},
   "outputs": [
    {
     "data": {
      "text/plain": [
       "(-3350.9491750725088, [3350.9491750725088, 304.63174318840987, 0.0])"
      ]
     },
     "execution_count": 14,
     "metadata": {},
     "output_type": "execute_result"
    }
   ],
   "source": [
    "def lnlikeBAO(theta):\n",
    "    chi =  lnlikecov(theta,funarr,np.array(BaoData[:,0]),np.array(BaoData[:,1]),covFromErr(np.array(BaoData[:,2]))) \n",
    "    i = len(BaoData[:,0])\n",
    "    return -chi, [chi, chi/(i-len(theta)),1-stats.chi2.cdf(x=chi, df=(i-len(theta)))]\n",
    "\n",
    "lnlikeBAO([68,0.007,0.31,0.68,147,0.9])"
   ]
  },
  {
   "cell_type": "code",
   "execution_count": 15,
   "metadata": {},
   "outputs": [
    {
     "name": "stdout",
     "output_type": "stream",
     "text": [
      "(-1826.696718415813, [1826.696718415813, 8.303166901890059, 0.0])\n"
     ]
    }
   ],
   "source": [
    "#The likelihood functions\n",
    "def A(theta, x, y, yerr):\n",
    "    chi2 = 0\n",
    "    Mu = mu(theta,x)\n",
    "    for i in range(len(x)):\n",
    "        chi2 += (y[i] - Mu[i])**2/yerr[i]**2\n",
    "    return chi2\n",
    "\n",
    "def B(theta, x, y, yerr):\n",
    "    chi2 = 0\n",
    "    Mu = mu(theta,x)\n",
    "    for i in range(len(x)):\n",
    "        chi2 += (y[i] - Mu[i])/yerr[i]**2\n",
    "    return chi2\n",
    "\n",
    "def C(theta, x, y, yerr):\n",
    "    chi2 = 0\n",
    "    for i in range(len(x)):\n",
    "        chi2 += 1/yerr[i]**2\n",
    "    return chi2\n",
    "\n",
    "def chiTyIA(theta, x, y, yerr):\n",
    "    return (A(theta, x, y, yerr) - B(theta, x, y, yerr)**2/C(theta, x, y, yerr))\n",
    "\n",
    "def lnlikeHubb(theta):\n",
    "    chi = chiTyIA(theta,panthData[:,1], panthData[:,4], panthData[:,5])\n",
    "    chi += chiTyIA(theta,GRBData[:,2],GRBData[:,3],GRBData[:,4])\n",
    "    chi += chiTyIA(theta,QuData[:,0],QuData[:,1],QuData[:,2])\n",
    "    i = len(panthData[:,1]) + len(GRBData[:,2]) + len(QuData[:,0])\n",
    "    return -chi, [chi, chi/(i-len(theta)),1-stats.chi2.cdf(x=chi, df=(i-len(theta)))]\n",
    "\n",
    "print(lnlikeHubb([68,0.007,0.31,0.68,147,0.9]))"
   ]
  },
  {
   "cell_type": "code",
   "execution_count": 16,
   "metadata": {},
   "outputs": [
    {
     "name": "stdout",
     "output_type": "stream",
     "text": [
      "(-5884.312947891174, [5884.312947891174, 22.03862527300065, 0.0])\n"
     ]
    }
   ],
   "source": [
    "def lnlikeTot(theta):\n",
    "    chi =  lnlikecov(theta,funarr,np.array(BaoData[:,0]),np.array(BaoData[:,1]),covFromErr(np.array(BaoData[:,2]))) \n",
    "    i = len(BaoData[:,0])\n",
    "    chi += lnlike(theta,H,ccData[:,0], ccData[:,1], ccData[:,2]); i += len(ccData[:,0])  \n",
    "    chi += chiTyIA(theta,panthData[:,1], panthData[:,4], panthData[:,5])\n",
    "    chi += chiTyIA(theta,GRBData[:,2],GRBData[:,3],GRBData[:,4])\n",
    "    chi += chiTyIA(theta,QuData[:,0],QuData[:,1],QuData[:,2])\n",
    "    i += len(panthData[:,1]) + len(GRBData[:,2]) + len(QuData[:,0]) \n",
    "    return -chi, [chi, chi/(i-len(theta)),1-stats.chi2.cdf(x=chi, df=(i-len(theta)))]\n",
    "\n",
    "print(lnlikeTot([68,0.007,0.31,0.68,147,0.9]))"
   ]
  },
  {
   "cell_type": "code",
   "execution_count": 17,
   "metadata": {},
   "outputs": [],
   "source": [
    "runs = 100"
   ]
  },
  {
   "cell_type": "code",
   "execution_count": 18,
   "metadata": {},
   "outputs": [],
   "source": [
    "def dumper(live, dead, logweights, logZ, logZerr):\n",
    "    print(\"Last dead point:\", dead[-1])"
   ]
  },
  {
   "cell_type": "code",
   "execution_count": 19,
   "metadata": {},
   "outputs": [],
   "source": [
    "def uniprior(hypercube):\n",
    "    prior = []\n",
    "    prior.append(UniformPrior(50.,100.)(hypercube[0]))\n",
    "    prior.append(UniformPrior(0.,1.)(hypercube[1]))\n",
    "    prior.append(UniformPrior(0.,1-hypercube[1])(hypercube[2]))\n",
    "    prior.append(UniformPrior(-1.15,-0.75)(hypercube[3]))\n",
    "    prior.append(UniformPrior(100,200)(hypercube[4]))\n",
    "    prior.append(UniformPrior(0.9,1.1)(hypercube[5]))\n",
    "    return prior\n",
    "\n",
    "def unipriorRiess(hypercube):\n",
    "    prior = []\n",
    "    prior.append(GaussianPrior(74.03,1.42)(hypercube[0]))\n",
    "    prior.append(UniformPrior(0.,1.)(hypercube[1]))\n",
    "    prior.append(UniformPrior(0.,1-hypercube[1])(hypercube[2]))\n",
    "    prior.append(UniformPrior(-1.15,-0.75)(hypercube[3]))\n",
    "    prior.append(UniformPrior(100,200)(hypercube[4]))\n",
    "    prior.append(UniformPrior(0.9,1.1)(hypercube[5]))\n",
    "    return prior"
   ]
  },
  {
   "cell_type": "code",
   "execution_count": 20,
   "metadata": {},
   "outputs": [],
   "source": [
    "settingsBAO = PolyChordSettings(6,3)\n",
    "settingsBAO.file_root = 'LCDMBAO_wS1'\n",
    "settingsBAO.nlive = runs\n",
    "settingsBAO.do_clustering = True\n",
    "settingsBAO.read_resume = False\n",
    "\n",
    "settingsBAOR = PolyChordSettings(6,3)\n",
    "settingsBAOR.file_root = 'LCDMBAOR_wS1'\n",
    "settingsBAOR.nlive = runs\n",
    "settingsBAOR.do_clustering = True\n",
    "settingsBAOR.read_resume = False\n",
    "\n",
    "settingsHDR = PolyChordSettings(6,3)\n",
    "settingsHDR.file_root = 'LCDMHDR_wS1'\n",
    "settingsHDR.nlive = runs\n",
    "settingsHDR.do_clustering = True\n",
    "settingsHDR.read_resume = False\n",
    "\n",
    "settingsTot = PolyChordSettings(6,3)\n",
    "settingsTot.file_root = 'LCDMTot_wS1'\n",
    "settingsTot.nlive = runs\n",
    "settingsTot.do_clustering = True\n",
    "settingsTot.read_resume = False\n",
    "\n",
    "settingsTotR = PolyChordSettings(6,3)\n",
    "settingsTotR.file_root = 'LCDMTotR_wS1'\n",
    "settingsTotR.nlive = runs\n",
    "settingsTotR.do_clustering = True\n",
    "settingsTotR.read_resume = False"
   ]
  },
  {
   "cell_type": "code",
   "execution_count": 21,
   "metadata": {},
   "outputs": [
    {
     "name": "stdout",
     "output_type": "stream",
     "text": [
      "Last dead point: [ 8.52754268e+01  5.91107021e-02  8.10097118e-01 -1.02936847e+00\n",
      "  1.54048263e+02  1.08409791e+00  1.56743478e+03  1.42494071e+02\n",
      "  0.00000000e+00 -2.89597632e+03 -1.56743478e+03]\n",
      "Last dead point: [ 9.85019622e+01  2.94134973e-01  6.26539182e-01 -7.66452561e-01\n",
      "  1.02543958e+02  9.30438392e-01  6.48841737e+02  5.89856124e+01\n",
      "  0.00000000e+00 -1.00000000e+30 -6.48841737e+02]\n",
      "Last dead point: [ 7.74070626e+01  5.25716946e-01  4.67820684e-01 -8.40713996e-01\n",
      "  1.22150660e+02  1.04378018e+00  4.12447503e+02  3.74952275e+01\n",
      "  0.00000000e+00 -2.93239333e+03 -4.12447503e+02]\n",
      "Last dead point: [ 6.31698116e+01  2.25169317e-01  6.70008888e-01 -1.13013263e+00\n",
      "  1.59471003e+02  1.05147588e+00  2.77312461e+02  2.52102238e+01\n",
      "  0.00000000e+00 -3.22138951e+02 -2.77312461e+02]\n",
      "Last dead point: [  70.51107496    0.48845357    0.48423933   -0.97924426  117.33855588\n",
      "    0.92790269  180.02853185   16.36623017    0.         -391.86579482\n",
      " -180.02853185]\n",
      "Last dead point: [  81.4429269     0.1494886     0.82571034   -1.02572484  136.30920808\n",
      "    1.00147527  112.45091994   10.2228109     0.         -127.58139746\n",
      " -112.45091994]\n",
      "Last dead point: [ 7.10572645e+01  1.97868084e-01  7.59828060e-01 -8.35963480e-01\n",
      "  1.47647976e+02  9.28658472e-01  7.06596873e+01  6.42360794e+00\n",
      "  9.15124643e-11 -7.66723154e+01 -7.06596873e+01]\n",
      "Last dead point: [ 7.18201235e+01  2.16595938e-01  7.38558345e-01 -9.05953113e-01\n",
      "  1.45256858e+02  9.90056318e-01  4.68205904e+01  4.25641731e+00\n",
      "  2.31406623e-06 -8.25756353e+01 -4.68205904e+01]\n",
      "Last dead point: [ 6.59090405e+01  1.96214995e-01  7.76909444e-01 -7.54041612e-01\n",
      "  1.60453172e+02  1.09522428e+00  3.21662039e+01  2.92420035e+00\n",
      "  7.17265097e-04 -5.24543632e+01 -3.21662039e+01]\n",
      "Last dead point: [ 6.80548286e+01  2.64082585e-01  7.15217249e-01 -9.06082754e-01\n",
      "  1.52440412e+02  1.01806738e+00  2.27607342e+01  2.06915765e+00\n",
      "  1.90994914e-02 -2.56065290e+01 -2.27607342e+01]\n",
      "Last dead point: [ 7.07257002e+01  2.60876234e-01  7.34388902e-01 -1.09324156e+00\n",
      "  1.43359885e+02  1.00540112e+00  1.73855564e+01  1.58050513e+00\n",
      "  9.69769826e-02 -1.74542679e+01 -1.73855564e+01]\n",
      "Last dead point: [ 73.08494612   0.17818465   0.79167196  -1.03684353 143.81865004\n",
      "   0.97848684  13.89626188   1.26329653   0.23878699 -15.52471063\n",
      " -13.89626188]\n",
      "Last dead point: [ 73.06806016   0.25006049   0.73591233  -0.94000326 141.71042944\n",
      "   0.96633996  11.7139895    1.06490814   0.38552116 -13.0142839\n",
      " -11.7139895 ]\n",
      "Last dead point: [ 71.80446508   0.25910553   0.72876752  -1.09155901 139.0334754\n",
      "   0.95816773  10.36075839   0.94188713   0.49825817 -14.4493721\n",
      " -10.36075839]\n",
      "Last dead point: [ 71.64216448   0.29519352   0.7040399   -0.9721655  142.23787566\n",
      "   0.96717876   9.44737184   0.85885199   0.58067041  -9.47859738\n",
      "  -9.44737184]\n",
      "Last dead point: [ 68.56534275   0.2261213    0.75732303  -1.10885164 147.78447864\n",
      "   0.98924341   8.90344778   0.80940434   0.6308042  -10.13934733\n",
      "  -8.90344778]\n",
      "Last dead point: [ 72.8619433    0.22169928   0.76189919  -1.09521491 140.20384387\n",
      "   0.94582804   8.54353645   0.77668513   0.66394479  -9.54511339\n",
      "  -8.54353645]\n",
      "Last dead point: [ 74.42277841   0.21851966   0.76637551  -1.14602702 135.80430627\n",
      "   0.91553425   8.29280305   0.75389119   0.68685963  -8.29402518\n",
      "  -8.29280305]\n",
      "Last dead point: [ 72.05773008   0.2643889    0.72796324  -1.14624763 137.92819954\n",
      "   0.93448855   8.11256394   0.73750581   0.70318643  -8.22983192\n",
      "  -8.11256394]\n",
      "Last dead point: [ 66.83164352   0.27526645   0.72218518  -1.12933747 150.14845149\n",
      "   1.01420962   7.98491251   0.72590114   0.71465471  -8.31473432\n",
      "  -7.98491251]\n",
      "Last dead point: [ 63.2170458    0.25247979   0.73935323  -1.14990474 158.71306644\n",
      "   1.06489035   7.90710395   0.71882763   0.72160039  -8.06271737\n",
      "  -7.90710395]\n",
      "Last dead point: [ 68.37075453   0.25603304   0.73670535  -1.14439788 146.89626675\n",
      "   0.99032952   7.85490303   0.71408209   0.72623947  -7.92087038\n",
      "  -7.85490303]\n",
      "Last dead point: [ 70.04500912   0.26138594   0.73320298  -1.14934928 142.94015497\n",
      "   0.96360666   7.76934497   0.70630409   0.73380449  -8.00803532\n",
      "  -7.76934497]\n"
     ]
    }
   ],
   "source": [
    "outputBAO = pypolychord.run_polychord(lnlikeBAO, 6,3, settingsBAO, uniprior, dumper)"
   ]
  },
  {
   "cell_type": "code",
   "execution_count": 22,
   "metadata": {},
   "outputs": [
    {
     "name": "stdout",
     "output_type": "stream",
     "text": [
      "Last dead point: [ 7.24861070e+01  2.54645631e-01  4.40717124e-01 -8.65043174e-01\n",
      "  1.38718326e+02  9.40554664e-01  1.53969336e+03  1.39972124e+02\n",
      "  0.00000000e+00 -2.00555756e+03 -1.53969336e+03]\n",
      "Last dead point: [ 7.37316945e+01  3.46828904e-01  4.75763535e-01 -9.71222011e-01\n",
      "  1.26859264e+02  9.99331553e-01  7.60633785e+02  6.91485259e+01\n",
      "  0.00000000e+00 -7.74864243e+02 -7.60633785e+02]\n",
      "Last dead point: [ 7.64167318e+01  1.77013841e-01  6.35320130e-01 -8.91770547e-01\n",
      "  1.09787709e+02  9.25538637e-01  3.99346638e+02  3.63042399e+01\n",
      "  0.00000000e+00 -8.68544459e+02 -3.99346638e+02]\n",
      "Last dead point: [  73.76379208    0.43056658    0.56770565   -0.77454371  128.66025098\n",
      "    1.06833271  203.34428086   18.48584371    0.         -215.46826811\n",
      " -203.34428086]\n",
      "Last dead point: [  75.07206332    0.284316      0.67145187   -1.04294684  118.77564983\n",
      "    0.90985072  111.02158356   10.09287123    0.         -170.69420336\n",
      " -111.02158356]\n",
      "Last dead point: [ 7.42599285e+01  3.02116214e-01  6.64704196e-01 -7.60820571e-01\n",
      "  1.31430839e+02  9.09370562e-01  6.26112012e+01  5.69192738e+00\n",
      "  3.02332759e-09 -6.59015310e+01 -6.26112012e+01]\n",
      "Last dead point: [ 7.50608560e+01  2.25931246e-01  7.69941385e-01 -9.56831457e-01\n",
      "  1.47198936e+02  9.94980860e-01  3.86740414e+01  3.51582194e+00\n",
      "  6.01709863e-05 -5.95716490e+01 -3.86740414e+01]\n",
      "Last dead point: [ 7.30689066e+01  2.66770922e-01  7.09112012e-01 -1.12006395e+00\n",
      "  1.29853650e+02  9.02999673e-01  2.87967103e+01  2.61788275e+00\n",
      "  2.44072962e-03 -4.03629097e+01 -2.87967103e+01]\n",
      "Last dead point: [ 7.63268298e+01  2.57578929e-01  7.21339972e-01 -1.03692357e+00\n",
      "  1.33353265e+02  9.12058918e-01  2.06091815e+01  1.87356195e+00\n",
      "  3.76536188e-02 -2.82324521e+01 -2.06091815e+01]\n",
      "Last dead point: [ 7.42755813e+01  2.62517130e-01  7.31422578e-01 -9.36433348e-01\n",
      "  1.39262465e+02  9.15600843e-01  1.60669986e+01  1.46063624e+00\n",
      "  1.38661751e-01 -2.00020041e+01 -1.60669986e+01]\n",
      "Last dead point: [ 75.44671687   0.17594286   0.78866343  -1.14926975 135.30454937\n",
      "   0.91801175  13.14909369   1.19537215   0.28369256 -13.71604222\n",
      " -13.14909369]\n",
      "Last dead point: [ 76.67013197   0.15149064   0.81697308  -1.1088119  136.42243364\n",
      "   0.90556775  11.35442575   1.03222052   0.41406595 -11.8391427\n",
      " -11.35442575]\n",
      "Last dead point: [ 71.53872132   0.22277487   0.76382639  -1.11213422 141.15723251\n",
      "   0.96286995  10.0633616    0.91485105   0.5246969  -10.39184598\n",
      " -10.0633616 ]\n",
      "Last dead point: [ 72.31010178   0.19841244   0.78281028  -1.12094338 142.31937552\n",
      "   0.95851398   9.35195686   0.8501779    0.58944004  -9.75022911\n",
      "  -9.35195686]\n",
      "Last dead point: [ 73.82434524   0.24488522   0.74325565  -1.12402875 135.24117242\n",
      "   0.92117038   8.79788611   0.79980783   0.64054214 -10.50238962\n",
      "  -8.79788611]\n",
      "Last dead point: [ 72.35268759   0.26353698   0.73429373  -1.13089939 139.64038813\n",
      "   0.93091082   8.47424598   0.770386     0.67029653  -8.50182195\n",
      "  -8.47424598]\n",
      "Last dead point: [ 73.74868539   0.25612364   0.735189    -1.13995201 135.25430456\n",
      "   0.91214707   8.18356888   0.74396081   0.69677173  -8.4059646\n",
      "  -8.18356888]\n",
      "Last dead point: [ 74.17473664   0.26218548   0.73156344  -1.11610552 135.30494973\n",
      "   0.91172003   8.03691575   0.7306287    0.7099932   -8.0623674\n",
      "  -8.03691575]\n",
      "Last dead point: [ 73.89067105   0.26101341   0.73230106  -1.13588791 135.62139578\n",
      "   0.9189283    7.94665426   0.72242311   0.71807436  -8.05204296\n",
      "  -7.94665426]\n",
      "Last dead point: [ 73.48418208   0.27790359   0.72166143  -1.1311167  136.69975973\n",
      "   0.92015098   7.88888481   0.71717135   0.72322147  -7.94017173\n",
      "  -7.88888481]\n",
      "Last dead point: [ 74.35089447   0.27398199   0.72434912  -1.14624021 134.44798707\n",
      "   0.90715211   7.77947101   0.70722464   0.73291174  -7.85885173\n",
      "  -7.77947101]\n"
     ]
    }
   ],
   "source": [
    "outputBAOR = pypolychord.run_polychord(lnlikeBAO, 6,3, settingsBAOR, unipriorRiess, dumper)"
   ]
  },
  {
   "cell_type": "code",
   "execution_count": 23,
   "metadata": {},
   "outputs": [
    {
     "name": "stdout",
     "output_type": "stream",
     "text": [
      "Last dead point: [ 7.55041673e+01  8.02089624e-01  8.37619930e-02 -1.04481463e+00\n",
      "  1.15707286e+02  1.06070667e+00  3.64570325e+03  1.36543193e+01\n",
      "  0.00000000e+00 -1.00000000e+30 -3.64570325e+03]\n",
      "Last dead point: [ 6.67277237e+01  4.55688442e-01  4.05032533e-01 -1.04323592e+00\n",
      "  1.00212932e+02  1.01904146e+00  1.88507086e+03  7.06019047e+00\n",
      "  0.00000000e+00 -1.00000000e+30 -1.88507086e+03]\n",
      "Last dead point: [ 8.75531361e+01  2.50938124e-01  7.45843263e-01 -7.90883210e-01\n",
      "  1.56196342e+02  9.68008847e-01  1.12285028e+03  4.20543177e+00\n",
      "  0.00000000e+00 -1.61247169e+03 -1.12285028e+03]\n",
      "Last dead point: [ 7.65517664e+01  3.97520527e-01  5.86635227e-01 -7.52258383e-01\n",
      "  1.41126054e+02  1.09136742e+00  7.93321901e+02  2.97124308e+00\n",
      "  0.00000000e+00 -1.39333598e+03 -7.93321901e+02]\n",
      "Last dead point: [ 7.13659747e+01  2.77434703e-02  8.69026423e-01 -7.91316330e-01\n",
      "  1.58424469e+02  9.65097523e-01  5.90679645e+02  2.21228331e+00\n",
      "  0.00000000e+00 -6.71617826e+02 -5.90679645e+02]\n",
      "Last dead point: [ 7.48889545e+01  2.10529691e-01  7.18460961e-01 -7.57222415e-01\n",
      "  1.32832506e+02  1.07060736e+00  4.52641579e+02  1.69528681e+00\n",
      "  9.49074153e-12 -4.57449564e+02 -4.52641579e+02]\n",
      "Last dead point: [ 7.49082107e+01  1.34503268e-01  8.48013102e-01 -1.08340271e+00\n",
      "  1.39913509e+02  1.02756144e+00  3.83488035e+02  1.43628478e+00\n",
      "  3.73782161e-06 -3.99613065e+02 -3.83488035e+02]\n",
      "Last dead point: [ 7.04242288e+01  1.71499530e-01  7.54785051e-01 -8.99022087e-01\n",
      "  1.44980319e+02  1.04096907e+00  3.32553646e+02  1.24551927e+00\n",
      "  3.89096831e-03 -3.88143872e+02 -3.32553646e+02]\n",
      "Last dead point: [ 7.58409053e+01  8.01549777e-02  8.47851149e-01 -1.05802139e+00\n",
      "  1.40679871e+02  9.19923173e-01  3.03003259e+02  1.13484367e+00\n",
      "  6.40587653e-02 -3.14269016e+02 -3.03003259e+02]\n",
      "Last dead point: [ 7.45759828e+01  2.52186093e-01  7.24951978e-01 -8.39443861e-01\n",
      "  1.42176454e+02  9.44535992e-01  2.84314270e+02  1.06484745e+00\n",
      "  2.22924344e-01 -2.87482100e+02 -2.84314270e+02]\n",
      "Last dead point: [  64.91109082    0.32441896    0.67192983   -0.95338634  156.2874457\n",
      "    1.03846987  272.64572878    1.02114505    0.39303489 -284.71471802\n",
      " -272.64572878]\n",
      "Last dead point: [ 6.71023205e+01  2.29921686e-01  7.45797841e-01 -1.07712581e+00\n",
      "  1.51100695e+02  1.05009106e+00  2.66236008e+02  9.97138606e-01\n",
      "  5.01688004e-01 -2.69788647e+02 -2.66236008e+02]\n",
      "Last dead point: [  70.99313806    0.2729847     0.72226228   -0.96371009  142.41419884\n",
      "    0.9537141   261.26821765    0.97853265    0.58742628 -262.01878096\n",
      " -261.26821765]\n",
      "Last dead point: [  68.83364719    0.28886142    0.70933132   -0.91363145  149.84273754\n",
      "    0.98967758  258.16486971    0.96690962    0.63971571 -259.38509583\n",
      " -258.16486971]\n",
      "Last dead point: [  68.5441277     0.31986089    0.67966909   -0.93574373  147.01514217\n",
      "    1.00416669  256.59307875    0.96102277    0.66545235 -257.02792981\n",
      " -256.59307875]\n",
      "Last dead point: [  70.34477982    0.27372369    0.72213042   -0.93987542  146.31113999\n",
      "    0.99729153  255.11039901    0.95546966    0.68913222 -256.04277091\n",
      " -255.11039901]\n",
      "Last dead point: [  71.25926126    0.29288072    0.70335978   -0.9313707   142.69875809\n",
      "    0.96332716  254.22481287    0.95215286    0.70296136 -255.12783302\n",
      " -254.22481287]\n",
      "Last dead point: [  68.83438312    0.29876629    0.69859279   -0.93080494  147.22946545\n",
      "    1.00897176  253.55783487    0.94965481    0.71320795 -253.71834692\n",
      " -253.55783487]\n",
      "Last dead point: [  70.14649512    0.29228171    0.70553711   -0.9266618   146.55357901\n",
      "    0.98005373  253.10807418    0.94797032    0.72003152 -253.11002658\n",
      " -253.10807418]\n",
      "Last dead point: [  70.85955293    0.29863805    0.69963881   -0.93173178  143.97357515\n",
      "    0.97452245  252.69714938    0.94643127    0.72620326 -253.66748694\n",
      " -252.69714938]\n",
      "Last dead point: [  71.1570008     0.29170982    0.70719661   -0.96160852  143.9346508\n",
      "    0.97277644  252.39606393    0.94530361    0.73068639 -252.51147805\n",
      " -252.39606393]\n",
      "Last dead point: [  69.25393248    0.29740473    0.70231375   -0.95738121  146.87197579\n",
      "    1.00254785  252.18622556    0.9445177     0.73379104 -252.18883384\n",
      " -252.18622556]\n",
      "Last dead point: [  70.59022467    0.28466529    0.71287669   -0.9687268   145.19371958\n",
      "    0.98208066  252.01548226    0.94387821    0.7363051  -252.17206813\n",
      " -252.01548226]\n",
      "Last dead point: [  69.62286033    0.2997017     0.70025933   -0.9445056   147.34637532\n",
      "    0.99273127  251.90342601    0.94345852    0.73794904 -252.25254332\n",
      " -251.90342601]\n",
      "Last dead point: [  69.58546364    0.29287236    0.70710893   -0.96575019  147.27218916\n",
      "    0.99296377  251.63421006    0.94245022    0.74187903 -252.11176028\n",
      " -251.63421006]\n"
     ]
    }
   ],
   "source": [
    "outputTot = pypolychord.run_polychord(lnlikeTot, 6,3, settingsTot, uniprior, dumper)"
   ]
  },
  {
   "cell_type": "code",
   "execution_count": 24,
   "metadata": {},
   "outputs": [
    {
     "name": "stdout",
     "output_type": "stream",
     "text": [
      "Last dead point: [ 7.72260483e+01  3.00202104e-01  5.72307184e-01 -9.22664120e-01\n",
      "  1.77845693e+02  1.03151302e+00  3.52934419e+03  1.32185176e+01\n",
      "  0.00000000e+00 -4.27716398e+03 -3.52934419e+03]\n",
      "Last dead point: [ 7.20028194e+01  3.22387992e-02  8.88804165e-01 -8.79345502e-01\n",
      "  1.11623024e+02  9.30112820e-01  1.92258226e+03  7.20068261e+00\n",
      "  0.00000000e+00 -5.29879117e+03 -1.92258226e+03]\n",
      "Last dead point: [ 7.35355756e+01  2.74842964e-01  6.00918642e-01 -9.75077089e-01\n",
      "  1.34302876e+02  9.49206108e-01  9.45702634e+02  3.54195743e+00\n",
      "  0.00000000e+00 -1.30452890e+03 -9.45702634e+02]\n",
      "Last dead point: [ 7.37159469e+01  1.47595438e-01  7.80880689e-01 -9.83987959e-01\n",
      "  1.19630792e+02  1.05658455e+00  5.73353367e+02  2.14739089e+00\n",
      "  0.00000000e+00 -1.00631856e+03 -5.73353367e+02]\n",
      "Last dead point: [ 7.22387192e+01  1.49254940e-01  7.79832587e-01 -8.28650696e-01\n",
      "  1.55005831e+02  1.04065126e+00  4.21610829e+02  1.57906677e+00\n",
      "  4.72073625e-09 -1.07236304e+03 -4.21610829e+02]\n",
      "Last dead point: [ 7.32020616e+01  3.35789225e-01  6.46529484e-01 -9.52801063e-01\n",
      "  1.33838587e+02  9.79436030e-01  3.54231089e+02  1.32670820e+00\n",
      "  2.74166462e-04 -4.85706444e+02 -3.54231089e+02]\n",
      "Last dead point: [ 7.19057206e+01  2.50416103e-01  7.37332622e-01 -1.06432185e+00\n",
      "  1.42066309e+02  1.05509045e+00  3.13470614e+02  1.17404724e+00\n",
      "  2.65967095e-02 -3.36293246e+02 -3.13470614e+02]\n",
      "Last dead point: [ 7.35328002e+01  3.02528223e-01  6.87521698e-01 -8.54581392e-01\n",
      "  1.35015469e+02  1.00129164e+00  2.92168182e+02  1.09426285e+00\n",
      "  1.38891446e-01 -3.65849129e+02 -2.92168182e+02]\n",
      "Last dead point: [ 7.47256231e+01  2.71027509e-01  7.14922625e-01 -1.01185562e+00\n",
      "  1.31497341e+02  9.22658172e-01  2.78532407e+02  1.04319254e+00\n",
      "  3.01253414e-01 -2.78943923e+02 -2.78532407e+02]\n",
      "Last dead point: [ 7.23318757e+01  1.20094169e-01  8.28789787e-01 -1.12760673e+00\n",
      "  1.41323547e+02  1.00185518e+00  2.71698636e+02  1.01759789e+00\n",
      "  4.08672210e-01 -2.74693800e+02 -2.71698636e+02]\n",
      "Last dead point: [ 7.12274649e+01  1.70843487e-01  8.03413744e-01 -1.06993315e+00\n",
      "  1.47004299e+02  9.87718243e-01  2.66638350e+02  9.98645504e-01\n",
      "  4.94733830e-01 -2.67814830e+02 -2.66638350e+02]\n",
      "Last dead point: [  73.31787345    0.30618225    0.69202599   -0.82952767  139.2103785\n",
      "    0.96737056  262.97437786    0.98492276    0.55811744 -264.36596279\n",
      " -262.97437786]\n",
      "Last dead point: [ 7.39886231e+01  2.47025744e-01  7.45905689e-01 -1.02101076e+00\n",
      "  1.41073543e+02  9.38165894e-01  2.60379326e+02  9.75203467e-01\n",
      "  6.02565358e-01 -2.60807402e+02 -2.60379326e+02]\n",
      "Last dead point: [ 7.25470726e+01  2.57562004e-01  7.40305433e-01 -1.00720461e+00\n",
      "  1.43491611e+02  9.48727943e-01  2.58423919e+02  9.67879847e-01\n",
      "  6.35418960e-01 -2.59224161e+02 -2.58423919e+02]\n",
      "Last dead point: [ 7.15599121e+01  2.32466674e-01  7.51167044e-01 -1.05043950e+00\n",
      "  1.42507336e+02  9.85176077e-01  2.57193537e+02  9.63271673e-01\n",
      "  6.55691611e-01 -2.59906611e+02 -2.57193537e+02]\n",
      "Last dead point: [  72.18869578    0.27307312    0.71896715   -0.93324559  143.24346731\n",
      "    0.96029523  255.95507119    0.95863323    0.67571864 -256.92738033\n",
      " -255.95507119]\n",
      "Last dead point: [  71.72135338    0.27592127    0.71957481   -0.99810978  143.38706677\n",
      "    0.97452863  255.0013107     0.95506109    0.69084901 -256.48996705\n",
      " -255.0013107 ]\n",
      "Last dead point: [  71.33966223    0.29552694    0.7001265    -0.91001839  143.78365855\n",
      "    0.97000337  254.34311385    0.95259593    0.70112849 -254.77814768\n",
      " -254.34311385]\n",
      "Last dead point: [  70.55678348    0.28863409    0.70939952   -0.97058244  143.94124157\n",
      "    0.99333921  253.73928552    0.9503344     0.71043523 -257.22958825\n",
      " -253.73928552]\n",
      "Last dead point: [  70.9691293     0.29070473    0.70596082   -0.93132193  143.70364495\n",
      "    0.97245462  253.29834811    0.94868295    0.7171534  -256.86690459\n",
      " -253.29834811]\n",
      "Last dead point: [  70.91910807    0.28754125    0.71160178   -0.96905246  145.80315994\n",
      "    0.97673328  252.87885445    0.94711181    0.72348169 -254.05629827\n",
      " -252.87885445]\n",
      "Last dead point: [  70.76824973    0.28230396    0.7146746    -0.98547901  144.02030874\n",
      "    0.97269086  252.51910844    0.94576445    0.72885829 -253.98428672\n",
      " -252.51910844]\n",
      "Last dead point: [  70.72985479    0.28877196    0.71012326   -0.96803232  144.55676896\n",
      "    0.97067886  252.30784556    0.9449732     0.73199362 -252.47109131\n",
      " -252.30784556]\n",
      "Last dead point: [  69.85976103    0.29527945    0.70435377   -0.9647309   146.6235075\n",
      "    0.98167288  252.12930019    0.9443045     0.73463044 -252.22719367\n",
      " -252.12930019]\n",
      "Last dead point: [  70.68777549    0.29891672    0.70098745   -0.94277861  144.58759372\n",
      "    0.97660177  252.00772091    0.94384914    0.73641912 -252.16796889\n",
      " -252.00772091]\n",
      "Last dead point: [  69.94106173    0.29323872    0.70655112   -0.95648667  146.53175802\n",
      "    0.98942876  251.58895047    0.94228071    0.74253699 -251.99321969\n",
      " -251.58895047]\n"
     ]
    }
   ],
   "source": [
    "outputTotR = pypolychord.run_polychord(lnlikeTot, 6,3, settingsTotR, unipriorRiess, dumper)"
   ]
  },
  {
   "cell_type": "code",
   "execution_count": 25,
   "metadata": {},
   "outputs": [
    {
     "name": "stderr",
     "output_type": "stream",
     "text": [
      "WARNING:root:outlier fraction 0.12994011976047903 \n",
      "WARNING:root:outlier fraction 0.11345805672902837 \n",
      "WARNING:root:outlier fraction 0.09095982142857142 \n"
     ]
    },
    {
     "name": "stdout",
     "output_type": "stream",
     "text": [
      "chains/LCDMBAO_wS1.txt\n",
      "Removed no burn in\n",
      "chains/LCDMBAOR_wS1.txt\n",
      "Removed no burn in\n",
      "chains/LCDMTot_wS1.txt\n",
      "Removed no burn in\n",
      "chains/LCDMTotR_wS1.txt\n",
      "Removed no burn in\n"
     ]
    }
   ],
   "source": [
    "paramnames = [('h0','H_0 (km s^{-1} Mpc^{-1})'),('om', '\\Omega_m'),('ol', r'\\Omega_\\Lambda'),('w','w'), ('rd','r_d (Mpc)'),('rat','rat'),('L',r'L'),('Ldof',r'L/Dof'),('p','p')]\n",
    "outputBAO.make_paramnames_files(paramnames)\n",
    "outputBAOR.make_paramnames_files(paramnames)\n",
    "outputTot.make_paramnames_files(paramnames)\n",
    "outputTotR.make_paramnames_files(paramnames)\n",
    "\n",
    "posteriorBAO = outputBAO.posterior\n",
    "posteriorBAOR = outputBAOR.posterior\n",
    "posteriorTot = outputTot.posterior\n",
    "posteriorTotR = outputTotR.posterior"
   ]
  },
  {
   "cell_type": "code",
   "execution_count": 31,
   "metadata": {},
   "outputs": [
    {
     "data": {
      "text/plain": [
       "((0.05433158705088993, 0.3448881537026782),\n",
       " (0.6580232698983651, 0.8886142164277878))"
      ]
     },
     "execution_count": 31,
     "metadata": {},
     "output_type": "execute_result"
    },
    {
     "data": {
      "image/png": "[encoded data removed]",
      "text/plain": [
       "<Figure size 432x366.102 with 1 Axes>"
      ]
     },
     "metadata": {
      "needs_background": "light"
     },
     "output_type": "display_data"
    }
   ],
   "source": [
    "import getdist.plots\n",
    "%matplotlib inline\n",
    "g = plots.get_single_plotter(width_inch=6, ratio=1/1.18)\n",
    "g.plot_2d([posteriorBAO,posteriorBAOR,posteriorTot,posteriorTotR], ('om','ol'),filled=True)\n",
    "#g.export('OmOw_f.pdf')"
   ]
  },
  {
   "cell_type": "code",
   "execution_count": 32,
   "metadata": {},
   "outputs": [
    {
     "data": {
      "image/png": "[encoded data removed]",
      "text/plain": [
       "<Figure size 432x432 with 6 Axes>"
      ]
     },
     "metadata": {
      "needs_background": "light"
     },
     "output_type": "display_data"
    }
   ],
   "source": [
    "g = getdist.plots.getSubplotPlotter()\n",
    "g.triangle_plot([posteriorBAO,posteriorBAOR,posteriorTot,posteriorTotR], ('h0','om','ol') ,filled=True, legend_labels=[r'BAO',r'BAO + R19',r'CC + BAO + SC',r'CC + SC + BAO + R19'])\n",
    "#g.export('LCDMrdw_f.pdf')"
   ]
  },
  {
   "cell_type": "code",
   "execution_count": 33,
   "metadata": {},
   "outputs": [
    {
     "data": {
      "text/plain": [
       "<matplotlib.legend.Legend at 0x7fcce64d4bd0>"
      ]
     },
     "execution_count": 33,
     "metadata": {},
     "output_type": "execute_result"
    },
    {
     "data": {
      "image/png": "[encoded data removed]",
      "text/plain": [
       "<Figure size 432x366.102 with 1 Axes>"
      ]
     },
     "metadata": {
      "needs_background": "light"
     },
     "output_type": "display_data"
    }
   ],
   "source": [
    "%matplotlib inline\n",
    "g = plots.get_single_plotter(width_inch=6, ratio=1/1.18)\n",
    "g.plot_2d([posteriorBAO,posteriorBAOR,posteriorTot,posteriorTotR], ('h0','om'),filled=True)\n",
    "g.add_legend([r'BAO',r'BAO + R19',r'CC + BAO + SC',r'CC + SC + BAO + R19'], legend_loc='lower left')\n",
    "#g.export('Omh0w_f.pdf')"
   ]
  },
  {
   "cell_type": "code",
   "execution_count": 34,
   "metadata": {},
   "outputs": [
    {
     "data": {
      "text/plain": [
       "<matplotlib.legend.Legend at 0x7fcce63c8c50>"
      ]
     },
     "execution_count": 34,
     "metadata": {},
     "output_type": "execute_result"
    },
    {
     "data": {
      "image/png": "[encoded data removed]",
      "text/plain": [
       "<Figure size 432x366.102 with 1 Axes>"
      ]
     },
     "metadata": {
      "needs_background": "light"
     },
     "output_type": "display_data"
    }
   ],
   "source": [
    "%matplotlib inline\n",
    "g = plots.get_single_plotter(width_inch=6, ratio=1/1.18)\n",
    "g.plot_2d([posteriorBAO,posteriorBAOR,posteriorTot,posteriorTotR], ('h0','rd'),filled=True)\n",
    "g.add_legend([r'BAO',r'BAO + R19',r'CC + SC + BAO',r'CC + SC + BAO + R19'], legend_loc='lower left')\n",
    "#g.export('h0rdw_f.pdf')"
   ]
  },
  {
   "cell_type": "code",
   "execution_count": 35,
   "metadata": {},
   "outputs": [
    {
     "data": {
      "image/png": "[encoded data removed]",
      "text/plain": [
       "<Figure size 432x366.102 with 1 Axes>"
      ]
     },
     "metadata": {
      "needs_background": "light"
     },
     "output_type": "display_data"
    }
   ],
   "source": [
    "%matplotlib inline\n",
    "g = plots.get_single_plotter(width_inch=6, ratio=1/1.18)\n",
    "g.plot_2d([posteriorBAO,posteriorBAOR,posteriorTot,posteriorTotR], ('h0','w'),filled=True)\n",
    "#g.add_legend([r'BAO',r'BAO + R19',r'CC + SC + BAO',r'CC + SC + BAO + R19'], legend_loc='lower left')\n",
    "g.export('h0w_fs.pdf')"
   ]
  },
  {
   "cell_type": "code",
   "execution_count": 42,
   "metadata": {},
   "outputs": [
    {
     "name": "stdout",
     "output_type": "stream",
     "text": [
      "BAO\n",
      "H_0 (km s^{-1} Mpc^{-1}) = 68.873390 +/- 4.649419 +/- 6.627701\n",
      "\\Omega_m = 0.245031 +/- 0.032442 +/- 0.084481\n",
      "\\Omega_\\Lambda = 0.743820 +/- 0.024274 +/- 0.042830\n",
      "w = -1.070911 +/- 0.060833 +/- 0.076322\n",
      "r_d (Mpc) = 148.301290 +/- 10.181844 +/- 14.969912\n",
      "rat = 1.000530 +/- 0.067778 +/- 0.095992\n",
      "L = 10.102767 +/- 1.347829 +/- 1.939798\n",
      "L/Dof = 0.918433 +/- 0.122530 +/- 0.176345\n",
      "p = 0.527754 +/- 0.116373 +/- 0.286102\n",
      "BAOR\n",
      "H_0 (km s^{-1} Mpc^{-1}) = 73.696475 +/- 1.308680 +/- 2.931988\n",
      "\\Omega_m = 0.242912 +/- 0.036972 +/- 0.088821\n",
      "\\Omega_\\Lambda = 0.745627 +/- 0.028599 +/- 0.043708\n",
      "w = -1.067082 +/- 0.065522 +/- 0.080730\n",
      "r_d (Mpc) = 138.427601 +/- 3.182790 +/- 5.421727\n",
      "rat = 0.934934 +/- 0.024291 +/- 0.032341\n",
      "L = 10.193666 +/- 1.429878 +/- 2.070154\n",
      "L/Dof = 0.926697 +/- 0.129989 +/- 0.188196\n",
      "p = 0.520228 +/- 0.130563 +/- 0.285537\n",
      "Tot\n",
      "H_0 (km s^{-1} Mpc^{-1}) = 69.944746 +/- 1.075632 +/- 2.133236\n",
      "\\Omega_m = 0.269247 +/- 0.022520 +/- 0.063180\n",
      "\\Omega_\\Lambda = 0.723510 +/- 0.019414 +/- 0.033162\n",
      "w = -0.988786 +/- 0.049185 +/- 0.104435\n",
      "r_d (Mpc) = 146.364993 +/- 2.529933 +/- 4.568483\n",
      "rat = 0.989307 +/- 0.016383 +/- 0.031864\n",
      "L = 254.805418 +/- 1.586114 +/- 2.452600\n",
      "L/Dof = 0.954327 +/- 0.005941 +/- 0.009186\n",
      "p = 0.693499 +/- 0.026922 +/- 0.064168\n",
      "TotR\n",
      "H_0 (km s^{-1} Mpc^{-1}) = 71.648411 +/- 0.879174 +/- 1.635630\n",
      "\\Omega_m = 0.265542 +/- 0.021945 +/- 0.061568\n",
      "\\Omega_\\Lambda = 0.726808 +/- 0.018798 +/- 0.031380\n",
      "w = -0.988581 +/- 0.048566 +/- 0.101296\n",
      "r_d (Mpc) = 143.159863 +/- 1.921230 +/- 3.914555\n",
      "rat = 0.967373 +/- 0.014822 +/- 0.029135\n",
      "L = 255.835091 +/- 1.982017 +/- 3.145410\n",
      "L/Dof = 0.958184 +/- 0.007423 +/- 0.011781\n",
      "p = 0.677081 +/- 0.033157 +/- 0.074516\n"
     ]
    }
   ],
   "source": [
    "def get_constraints(samples):\n",
    "    for i, mean in enumerate(samples.getMeans()):\n",
    "        upper = samples.confidence(i, upper=True, limfrac=0.05)\n",
    "        #print(\"\\nupper limit 95 C.L. = %f\" % upper)\n",
    "        lower = samples.confidence(i, upper=False, limfrac=0.05)\n",
    "        #print(\"lower limit 95 C.L. = %f\" % lower)\n",
    "        print(\"%s = %f +/- %f +/- %f\" % (samples.parLabel(i),\\\n",
    "\n",
    "        mean, mean - samples.confidence(i, limfrac=0.16),\\\n",
    "        mean - samples.confidence(i, limfrac=0.025)) )\n",
    "    return\n",
    "for i in [\"BAO\",\"BAOR\", \"Tot\", \"TotR\"]:\n",
    "    print(i)\n",
    "    get_constraints(eval(\"posterior\"+i))"
   ]
  },
  {
   "cell_type": "code",
   "execution_count": 58,
   "metadata": {},
   "outputs": [
    {
     "data": {
      "text/plain": [
       "([266.80541800000003, 267.12120747368425], 269.42239388224453)"
      ]
     },
     "execution_count": 58,
     "metadata": {},
     "output_type": "execute_result"
    }
   ],
   "source": [
    "def AIC_chi2(chi2, p, n):\n",
    "    return [chi2+2*p,chi2+2*p+2*p*(p+1)/(n-p-1)]\n",
    "def BIC_chi2(chi2, p, n):\n",
    "    return chi2+p*np.log10(n)\n",
    "L1=254.805418\n",
    "n1=273\n",
    "p=6\n",
    "AIC_chi2(L1,p,n1), BIC_chi2(L1,p,n1)"
   ]
  },
  {
   "cell_type": "code",
   "execution_count": 41,
   "metadata": {},
   "outputs": [
    {
     "name": "stdout",
     "output_type": "stream",
     "text": [
      "using 1670 rows, 9 parameters; mean weight 0.22494347307267104, tot weight 375.6556000313606\n",
      "Equiv number of single samples (sum w)/max(w): 376.0\n",
      "Effective number of weighted samples (sum w)^2/sum(w^2): 557\n",
      "\n",
      "Marginalised evidence is -23.1099771557151 ± 0.359155534490716\n",
      "using 1657 rows, 9 parameters; mean weight 0.22811505879798988, tot weight 377.9866524282692\n",
      "Equiv number of single samples (sum w)/max(w): 378.0\n",
      "Effective number of weighted samples (sum w)^2/sum(w^2): 581\n",
      "\n",
      "Marginalised evidence is -21.845566184791 ± 0.340078653220258\n",
      "using 1792 rows, 9 parameters; mean weight 0.22352323090070922, tot weight 400.55362977407094\n",
      "Equiv number of single samples (sum w)/max(w): 401.0\n",
      "Effective number of weighted samples (sum w)^2/sum(w^2): 637\n",
      "\n",
      "Marginalised evidence is -269.82239541296 ± 0.38537784752306\n",
      "using 1999 rows, 9 parameters; mean weight 0.2601846823578367, tot weight 520.1091800333156\n",
      "Equiv number of single samples (sum w)/max(w): 520.0\n",
      "Effective number of weighted samples (sum w)^2/sum(w^2): 762\n",
      "\n",
      "Marginalised evidence is -270.425325502709 ± 0.379381172077793\n"
     ]
    }
   ],
   "source": [
    "import getdist.mcsamples\n",
    "#help(getdist.mcsamples)\n",
    "for i in [\"BAO\",\"BAOR\", \"Tot\", \"TotR\"]:\n",
    "    print(eval(\"posterior\"+i).getNumSampleSummaryText())\n",
    "    print('Marginalised evidence is {} ± {}'.format(eval(\"output\"+i).logZ, eval(\"output\"+i).logZerr))"
   ]
  },
  {
   "cell_type": "code",
   "execution_count": null,
   "metadata": {},
   "outputs": [],
   "source": []
  },
  {
   "cell_type": "code",
   "execution_count": null,
   "metadata": {},
   "outputs": [],
   "source": []
  },
  {
   "cell_type": "code",
   "execution_count": null,
   "metadata": {},
   "outputs": [],
   "source": []
  },
  {
   "cell_type": "code",
   "execution_count": null,
   "metadata": {},
   "outputs": [],
   "source": []
  },
  {
   "cell_type": "code",
   "execution_count": 1,
   "metadata": {},
   "outputs": [],
   "source": [
    "#outputBAO"
   ]
  },
  {
   "cell_type": "code",
   "execution_count": 2,
   "metadata": {},
   "outputs": [],
   "source": [
    "#outputBAOR"
   ]
  },
  {
   "cell_type": "code",
   "execution_count": 3,
   "metadata": {},
   "outputs": [],
   "source": [
    "#outputTot"
   ]
  },
  {
   "cell_type": "code",
   "execution_count": 5,
   "metadata": {},
   "outputs": [],
   "source": [
    "#outputTotR"
   ]
  },
  {
   "cell_type": "code",
   "execution_count": null,
   "metadata": {},
   "outputs": [],
   "source": []
  }
 ],
 "metadata": {
  "kernelspec": {
   "display_name": "Python 3",
   "language": "python",
   "name": "python3"
  },
  "language_info": {
   "codemirror_mode": {
    "name": "ipython",
    "version": 3
   },
   "file_extension": ".py",
   "mimetype": "text/x-python",
   "name": "python",
   "nbconvert_exporter": "python",
   "pygments_lexer": "ipython3",
   "version": "3.7.6"
  }
 },
 "nbformat": 4,
 "nbformat_minor": 2
}
