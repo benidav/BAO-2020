{
 "cells": [
  {
   "cell_type": "markdown",
   "metadata": {},
   "source": [
    "<h3>File written by David Benisty and Denitsa Staicova</h3> If you use it or parts of it, please cite <a href=\"https://arxiv.org/abs/2009.10701\"> arXiv:2009.10701 [astro-ph.CO]</a><br>\n",
    "Title: Lambda-CDM v.1 <br>\n",
    "Last update: 15.12.2020"
   ]
  },
  {
   "cell_type": "code",
   "execution_count": 6,
   "metadata": {},
   "outputs": [],
   "source": [
    "from numpy import pi, log, sqrt\n",
    "import emcee\n",
    "import getdist\n",
    "import numpy as np\n",
    "from io import StringIO \n",
    "from getdist import plots, MCSamples\n",
    "import random\n",
    "from scipy.integrate import quad\n",
    "from scipy.integrate import odeint\n",
    "import scipy.integrate as integrate\n",
    "import matplotlib.pyplot as plt\n",
    "from scipy import stats \n",
    "import pypolychord\n",
    "from pypolychord.settings import PolyChordSettings\n",
    "from pypolychord.priors import UniformPrior, GaussianPrior\n",
    "import scipy.optimize as op\n",
    "from numpy.linalg import inv\n",
    "from mpi4py import MPI"
   ]
  },
  {
   "cell_type": "code",
   "execution_count": 2,
   "metadata": {},
   "outputs": [
    {
     "name": "stdout",
     "output_type": "stream",
     "text": [
      "['DVratio' 'DVratio' 'DArd' 'rdDV' 'DVratio' 'DArd' 'DVratio' 'Hxrd'\n",
      " 'DVrd' 'rdDV' 'DHrd' 'rdDV' 'rdDV' 'rdDV' 'DHrd' 'DAratio' 'DAratio']\n"
     ]
    }
   ],
   "source": [
    "# load Cosmic Chronometers dataset\n",
    "ccData = np.genfromtxt(\"./BAO/CC.txt\")\n",
    "# load Pantheon dataset\n",
    "panthData = np.genfromtxt(\"./BAO/binned_data.txt\")\n",
    "panthData = panthData[np.argsort(panthData[:,1])]\n",
    "# load GRB dataset\n",
    "GRBData = np.genfromtxt(\"./BAO//GRB.txt\")\n",
    "# load Quzars\n",
    "QuData = np.genfromtxt(\"./BAO/Quasars.txt\")\n",
    "\n",
    "\n",
    "#loading BAO data\n",
    "dirBD= \"./BAO/uncorBAO.txt\"\n",
    "#dirDJ= \"./BAO/data.txt\"\n",
    "BaoData = np.genfromtxt(dirBD)\n",
    "xarr = np.array(BaoData[:,0])    \n",
    "yarr = np.array(BaoData[:,1])\n",
    "dyarr = np.array(BaoData[:,2])\n",
    "\n",
    "funarr = np.genfromtxt(dirBD,dtype='str')[:,3]\n",
    "print(funarr)\n",
    "\n",
    "def modelArr(name):\n",
    "    mod = []\n",
    "\n",
    "    for j in range(len(funarr)):\n",
    "        if (funarr[j] == name):\n",
    "             mod.append([xarr[j],yarr[j],dyarr[j]])\n",
    "    mod = np.array(mod)\n",
    "    mod = mod[np.argsort(mod[:,0])]\n",
    "    return mod"
   ]
  },
  {
   "cell_type": "code",
   "execution_count": 3,
   "metadata": {},
   "outputs": [
    {
     "data": {
      "text/plain": [
       "array([124.80717127, 218.75269141, 339.19473758])"
      ]
     },
     "execution_count": 3,
     "metadata": {},
     "output_type": "execute_result"
    }
   ],
   "source": [
    "#H functions\n",
    "c = 299792.458\n",
    "\n",
    "def E(theta,z):\n",
    "    H0, Om, Ol, rd, rat = theta\n",
    "    return np.sqrt(Om*(1+z)**3 + Ol + (1 - Om - Ol)*(1+z)**4)\n",
    "\n",
    "def H(theta,z):\n",
    "    H0, Om, Ol, rd, rat = theta\n",
    "    arr = []\n",
    "    \n",
    "    for j in range(len(z)):\n",
    "        arr.append(H0*E(theta,z[j]))\n",
    "    arr = np.array(arr)\n",
    "    return arr\n",
    "\n",
    "def Hxrd(theta,z):\n",
    "    H0, Om, Ol, rd, rat = theta\n",
    "    arr = []\n",
    "    \n",
    "    for j in range(len(z)):\n",
    "        arr.append(rd*H0*E(theta,z[j]))\n",
    "    arr = np.array(arr)\n",
    "    return arr\n",
    "\n",
    "def Hxratio(theta,z):\n",
    "    H0, Om, Ol, rd, rat = theta\n",
    "    arr = []\n",
    "    \n",
    "    for j in range(len(z)):\n",
    "        arr.append(H0*E(theta,z[j])*rat)\n",
    "    arr = np.array(arr)\n",
    "    return arr\n",
    "\n",
    "Hxratio([67,0.31,0.67,150,1],[1,2,3])"
   ]
  },
  {
   "cell_type": "code",
   "execution_count": 4,
   "metadata": {},
   "outputs": [
    {
     "data": {
      "text/plain": [
       "array([16.0136342 ,  9.13641964,  5.89223878])"
      ]
     },
     "execution_count": 4,
     "metadata": {},
     "output_type": "execute_result"
    }
   ],
   "source": [
    "#DH functions\n",
    "def DH(theta,z):\n",
    "    H0, Om, Ol, rd, rat = theta\n",
    "    arr = []\n",
    "    \n",
    "    for j in range(len(z)):\n",
    "        arr.append(c/(H0*E(theta,z[j])))\n",
    "    arr = np.array(arr)\n",
    "    return arr\n",
    "\n",
    "def DHrd(theta,z):\n",
    "    H0, Om, Ol, rd, rat = theta\n",
    "    arr = []\n",
    "    \n",
    "    for j in range(len(z)):\n",
    "        arr.append(c/(H0*E(theta,z[j])*rd))\n",
    "    arr = np.array(arr)\n",
    "    return arr\n",
    "\n",
    "DHrd([67,0.31,0.67,150,1],[1,2,3])"
   ]
  },
  {
   "cell_type": "code",
   "execution_count": 5,
   "metadata": {},
   "outputs": [],
   "source": [
    "def Sk(theta,x):\n",
    "    H0, Om, Ol, rd, rat = theta\n",
    "    Ok =0\n",
    "    if Ok < -10**(-15):\n",
    "        return np.sin(np.sqrt(-Ok)*x)/np.sqrt(-Ok)\n",
    "    #if Ok == 0:\n",
    "    #    return x\n",
    "    elif Ok > 10**(-15):\n",
    "        return np.sinh(np.sqrt(Ok)*x)/np.sqrt(Ok)\n",
    "    else:\n",
    "        return x"
   ]
  },
  {
   "cell_type": "code",
   "execution_count": 6,
   "metadata": {},
   "outputs": [
    {
     "data": {
      "text/plain": [
       "array([0.7514202 , 1.15761318, 1.40342713])"
      ]
     },
     "execution_count": 6,
     "metadata": {},
     "output_type": "execute_result"
    }
   ],
   "source": [
    "# function that returns dDC/dz,df/dz\n",
    "def dchidz(x,z, H0, Om, Ol, rd, rat):\n",
    "    return 1/E([H0, Om, Ol, rd, rat],z)\n",
    "\n",
    "def chiInt(theta,z):\n",
    "    H0, Om, Ol, rd, rat = theta \n",
    "    z = np.hstack((np.array((0)), z))\n",
    "    arr = odeint(dchidz,0,z,args=(H0, Om, Ol, rd, rat,))\n",
    "    return np.delete(arr ,0)\n",
    "\n",
    "chiInt([67,0.31,0.67,150,1],[1,2,3])"
   ]
  },
  {
   "cell_type": "code",
   "execution_count": 7,
   "metadata": {},
   "outputs": [
    {
     "data": {
      "text/plain": [
       "array([3362.24043022, 5179.75672582, 6279.6547533 ])"
      ]
     },
     "execution_count": 7,
     "metadata": {},
     "output_type": "execute_result"
    }
   ],
   "source": [
    "#DM \n",
    "\n",
    "def DM(theta,z):\n",
    "    H0, Om, Ol, rd, rat = theta \n",
    "    chi = chiInt(theta,z)\n",
    "    \n",
    "    arr = []\n",
    "    \n",
    "    for i in range(len(z)):\n",
    "        arr.append(c*Sk(theta,chi[i])/H0)\n",
    "    arr = np.array(arr)\n",
    "    arr.shape\n",
    "    return arr\n",
    "\n",
    "def DMrd(theta,z):\n",
    "    H0, Om, Ol, rd, rat = theta\n",
    "    chi = chiInt(theta,z)\n",
    "    \n",
    "    arr = []\n",
    "    \n",
    "    for i in range(len(z)):\n",
    "        arr.append(c*Sk(theta,chi[i])/(H0*rd))\n",
    "    arr = np.array(arr)\n",
    "    arr.shape\n",
    "    return arr\n",
    "\n",
    "def DMratio(theta,z):\n",
    "    H0, Om, Ol, rd, rat = theta \n",
    "    chi = chiInt(theta,z)\n",
    "    \n",
    "    arr = []\n",
    "    \n",
    "    for i in range(len(z)):\n",
    "        arr.append(c*Sk(theta,chi[i])/(H0*rat))\n",
    "    arr = np.array(arr)\n",
    "    arr.shape\n",
    "    return arr\n",
    "\n",
    "DMratio([67,0.31,0.67,150,1],[1,2,3])"
   ]
  },
  {
   "cell_type": "code",
   "execution_count": 8,
   "metadata": {},
   "outputs": [
    {
     "data": {
      "text/plain": [
       "array([1681.12021511, 1726.58557527, 1569.91368832])"
      ]
     },
     "execution_count": 8,
     "metadata": {},
     "output_type": "execute_result"
    }
   ],
   "source": [
    "#DA \n",
    "\n",
    "def DA(theta,z):\n",
    "    H0, Om, Ol, rd, rat = theta \n",
    "    chi = chiInt(theta,z)\n",
    "    \n",
    "    arr = []\n",
    "    \n",
    "    for i in range(len(z)):\n",
    "        arr.append(c*Sk(theta,chi[i])/(H0*(z[i]+1)))\n",
    "    arr = np.array(arr)\n",
    "    arr.shape\n",
    "    return arr\n",
    "\n",
    "def DArd(theta,z):\n",
    "    H0, Om, Ol, rd, rat = theta \n",
    "    chi = chiInt(theta,z)\n",
    "    \n",
    "    arr = []\n",
    "    \n",
    "    for i in range(len(z)):\n",
    "        arr.append(c*Sk(theta,chi[i])/(H0*rd*(z[i]+1)))\n",
    "    arr = np.array(arr)\n",
    "    arr.shape\n",
    "    return arr\n",
    "\n",
    "def DAratio(theta,z):\n",
    "    H0, Om, Ol, rd, rat = theta \n",
    "    chi = chiInt(theta,z)\n",
    "    \n",
    "    arr = []\n",
    "    \n",
    "    for i in range(len(z)):\n",
    "        arr.append(c*Sk(theta,chi[i])/(H0*rat*(z[i]+1)))\n",
    "    arr = np.array(arr)\n",
    "    arr.shape\n",
    "    return arr\n",
    "\n",
    "DAratio([67,0.31,0.67,150,1],[1,2,3])"
   ]
  },
  {
   "cell_type": "code",
   "execution_count": 9,
   "metadata": {},
   "outputs": [
    {
     "data": {
      "text/plain": [
       "array([0.04990511, 0.03580299, 0.03183976])"
      ]
     },
     "execution_count": 9,
     "metadata": {},
     "output_type": "execute_result"
    }
   ],
   "source": [
    "#DV \n",
    "\n",
    "def DV(theta,z):\n",
    "    H0, Om, Ol, rd, rat = theta \n",
    "    dh = DH(theta,z)  \n",
    "    dm = DM(theta,z)\n",
    "    arr = []\n",
    "    \n",
    "    for i in range(len(z)):\n",
    "        arr.append(np.cbrt(z[i]*dh[i]*dm[i]**2))\n",
    "    arr = np.array(arr)\n",
    "    arr.shape\n",
    "    return arr\n",
    "\n",
    "def DVrd(theta,z):\n",
    "    H0, Om, Ol, rd, rat = theta\n",
    "    dh = DH(theta,z)  \n",
    "    dm = DM(theta,z)\n",
    "    arr = []\n",
    "    \n",
    "    for i in range(len(z)):\n",
    "        arr.append(np.cbrt(z[i]*dh[i]*dm[i]**2)/rd)\n",
    "    arr = np.array(arr)\n",
    "    arr.shape\n",
    "    return arr\n",
    "\n",
    "def DVratio(theta,z):\n",
    "    H0, Om, Ol, rd, rat = theta\n",
    "    dh = DH(theta,z)  \n",
    "    dm = DM(theta,z)\n",
    "    arr = []\n",
    "    \n",
    "    for i in range(len(z)):\n",
    "        arr.append(np.cbrt(z[i]*dh[i]*dm[i]**2)/rat)\n",
    "    arr = np.array(arr)\n",
    "    arr.shape\n",
    "    return arr\n",
    "\n",
    "def rdDV(theta,z):\n",
    "    H0, Om, Ol, rd, rat = theta\n",
    "    dh = DH(theta,z)  \n",
    "    dm = DM(theta,z)\n",
    "    arr = []\n",
    "    \n",
    "    for i in range(len(z)):\n",
    "        arr.append(rd/(np.cbrt(z[i]*dh[i]*dm[i]**2)))\n",
    "    arr = np.array(arr)\n",
    "    arr.shape\n",
    "    return arr\n",
    "\n",
    "rdDV([67,0.31,0.67,150,1],[1,2,3])"
   ]
  },
  {
   "cell_type": "code",
   "execution_count": 10,
   "metadata": {},
   "outputs": [],
   "source": [
    "def mu(theta,z):\n",
    "    DL = DM(theta,z)    \n",
    "    mu = []\n",
    "    \n",
    "    for i in range(len(z)):\n",
    "        mu.append(5*np.log10(DL[i]*(1+z[i])))\n",
    "    mu = np.array(mu)\n",
    "    mu.shape\n",
    "    return mu"
   ]
  },
  {
   "cell_type": "code",
   "execution_count": 11,
   "metadata": {},
   "outputs": [
    {
     "name": "stdout",
     "output_type": "stream",
     "text": [
      "(-15.099388356741214, [30, 0.6039755342696486, 0.9390285547145574])\n"
     ]
    }
   ],
   "source": [
    "def lnlike(theta, model,x,y,dy):\n",
    "    num = len(x)\n",
    "    chi2 = 0 \n",
    "    \n",
    "    prediction = model(theta,x)\n",
    "    for i in range(len(x)):\n",
    "        chi2 += ((prediction[i]-y[i])/dy[i])**2\n",
    "    return chi2\n",
    "\n",
    "def lnlikeCC(theta):\n",
    "    chi = 0; i = 0\n",
    "    chi += lnlike(theta,H,ccData[:,0], ccData[:,1], ccData[:,2]); i += len(ccData[:,0])\n",
    "    return -chi, [i, chi/(i-len(theta)),1-stats.chi2.cdf(x=chi, df=(i-len(theta)))]\n",
    "\n",
    "print(lnlikeCC([67,0.31,0.67,150,1]))"
   ]
  },
  {
   "cell_type": "code",
   "execution_count": 12,
   "metadata": {},
   "outputs": [],
   "source": [
    "# biuld the covariance matrix\n",
    "def covFromErr(error):\n",
    "    num = len(error)\n",
    "    cov = np.zeros((num,num))\n",
    "    for j in range(num):\n",
    "        cov[j,j] = error[j]**2\n",
    "    return inv(cov)\n",
    "\n",
    "def randCov(list_length,error):\n",
    "    num = len(error)\n",
    "    cov = np.zeros((num,num))\n",
    "    for j in range(num):\n",
    "        cov[j,j] = error[j]**2\n",
    "    # the covariance matrix for the uncorrelated data\n",
    "    randomList = random.sample(range(len(error)), list_length)\n",
    "    for i in range(len(randomList)):\n",
    "        for j in range(len(randomList)):\n",
    "            if (i!=j):\n",
    "                cov[i,j] += 0.5*error[i]*error[j]               \n",
    "    return inv(cov)"
   ]
  },
  {
   "cell_type": "code",
   "execution_count": 15,
   "metadata": {},
   "outputs": [
    {
     "name": "stdout",
     "output_type": "stream",
     "text": [
      "37.958897308898\n",
      "37.958897308898\n"
     ]
    }
   ],
   "source": [
    "# likelihood with covariance matrix\n",
    "def lnlikecov(theta,model,x,y,cov):\n",
    "    chi2 = 0 \n",
    "    prediction = []\n",
    "    \n",
    "    for i in range(len(model)):\n",
    "        fun = model[i]\n",
    "        prediction.append(eval(fun)(theta,[x[i]]))\n",
    "    prediction = np.array(prediction)[:,0]\n",
    "    prediction.shape\n",
    "    vec = (prediction - y)\n",
    "    \n",
    "    result = np.dot(np.dot(vec,cov),vec.T)\n",
    "    return result\n",
    "\n",
    "numUn = 0\n",
    "\n",
    "print(lnlikecov([67,0.31,0.67,150,1],funarr,np.array(BaoData[:,0]),np.array(BaoData[:,1]),covFromErr(np.array(BaoData[:,2]))))\n",
    "print(lnlikecov([67,0.31,0.67,150,1],funarr,np.array(BaoData[:,0]),np.array(BaoData[:,1]),randCov(numUn,np.array(BaoData[:,2]))))"
   ]
  },
  {
   "cell_type": "code",
   "execution_count": 16,
   "metadata": {},
   "outputs": [
    {
     "data": {
      "text/plain": [
       "(-83.90381313358013,\n",
       " [83.90381313358013, 6.991984427798344, 7.390754674929667e-13])"
      ]
     },
     "execution_count": 16,
     "metadata": {},
     "output_type": "execute_result"
    }
   ],
   "source": [
    "def lnlikeBAO(theta):\n",
    "    chi =  lnlikecov(theta,funarr,np.array(BaoData[:,0]),np.array(BaoData[:,1]),covFromErr(np.array(BaoData[:,2]))) \n",
    "    i = len(BaoData[:,0])\n",
    "    return -chi, [chi, chi/(i-len(theta)),1-stats.chi2.cdf(x=chi, df=(i-len(theta)))]\n",
    "\n",
    "lnlikeBAO([68,0.31,0.68,147,0.9])"
   ]
  },
  {
   "cell_type": "code",
   "execution_count": 17,
   "metadata": {},
   "outputs": [
    {
     "name": "stdout",
     "output_type": "stream",
     "text": [
      "(-240.82492318826553, [240.82492318826553, 1.0897055347885318, 0.171652671957231])\n"
     ]
    }
   ],
   "source": [
    "#The likelihood functions\n",
    "def A(theta, x, y, yerr):\n",
    "    chi2 = 0\n",
    "    Mu = mu(theta,x)\n",
    "    for i in range(len(x)):\n",
    "        chi2 += (y[i] - Mu[i])**2/yerr[i]**2\n",
    "    return chi2\n",
    "\n",
    "def B(theta, x, y, yerr):\n",
    "    chi2 = 0\n",
    "    Mu = mu(theta,x)\n",
    "    for i in range(len(x)):\n",
    "        chi2 += (y[i] - Mu[i])/yerr[i]**2\n",
    "    return chi2\n",
    "\n",
    "def C(theta, x, y, yerr):\n",
    "    chi2 = 0\n",
    "    for i in range(len(x)):\n",
    "        chi2 += 1/yerr[i]**2\n",
    "    return chi2\n",
    "\n",
    "def chiTyIA(theta, x, y, yerr):\n",
    "    return (A(theta, x, y, yerr) - B(theta, x, y, yerr)**2/C(theta, x, y, yerr))\n",
    "\n",
    "def lnlikeHubb(theta):\n",
    "    chi = chiTyIA(theta,panthData[:,1], panthData[:,4], panthData[:,5])\n",
    "    chi += chiTyIA(theta,GRBData[:,2],GRBData[:,3],GRBData[:,4])\n",
    "    chi += chiTyIA(theta,QuData[:,0],QuData[:,1],QuData[:,2])\n",
    "    i = len(panthData[:,1]) + len(GRBData[:,2]) + len(QuData[:,0])\n",
    "    return -chi, [chi, chi/(i-len(theta)),1-stats.chi2.cdf(x=chi, df=(i-len(theta)))]\n",
    "\n",
    "print(lnlikeHubb([68,0.31,0.68,147,0.9]))"
   ]
  },
  {
   "cell_type": "code",
   "execution_count": 18,
   "metadata": {},
   "outputs": [
    {
     "name": "stdout",
     "output_type": "stream",
     "text": [
      "(-339.38626275022375, [339.38626275022375, 1.2663666520530736, 0.002027638285247324])\n"
     ]
    }
   ],
   "source": [
    "def lnlikeTot(theta):\n",
    "    chi =  lnlikecov(theta,funarr,np.array(BaoData[:,0]),np.array(BaoData[:,1]),covFromErr(np.array(BaoData[:,2]))) \n",
    "    i = len(BaoData[:,0])\n",
    "    chi += lnlike(theta,H,ccData[:,0], ccData[:,1], ccData[:,2]); i += len(ccData[:,0])  \n",
    "    chi += chiTyIA(theta,panthData[:,1], panthData[:,4], panthData[:,5])\n",
    "    chi += chiTyIA(theta,GRBData[:,2],GRBData[:,3],GRBData[:,4])\n",
    "    chi += chiTyIA(theta,QuData[:,0],QuData[:,1],QuData[:,2])\n",
    "    i += len(panthData[:,1]) + len(GRBData[:,2]) + len(QuData[:,0]) \n",
    "    return -chi, [chi, chi/(i-len(theta)),1-stats.chi2.cdf(x=chi, df=(i-len(theta)))]\n",
    "\n",
    "print(lnlikeTot([68,0.31,0.68,147,0.9]))"
   ]
  },
  {
   "cell_type": "code",
   "execution_count": 19,
   "metadata": {},
   "outputs": [],
   "source": [
    "runs = 100"
   ]
  },
  {
   "cell_type": "code",
   "execution_count": 20,
   "metadata": {},
   "outputs": [],
   "source": [
    "def dumper(live, dead, logweights, logZ, logZerr):\n",
    "    print(\"Last dead point:\", dead[-1])"
   ]
  },
  {
   "cell_type": "code",
   "execution_count": 21,
   "metadata": {},
   "outputs": [],
   "source": [
    "def uniprior(hypercube):\n",
    "    prior = []\n",
    "    prior.append(UniformPrior(50.,100.)(hypercube[0]))\n",
    "    prior.append(UniformPrior(0.,1.)(hypercube[1]))\n",
    "    prior.append(UniformPrior(0.,1-hypercube[1])(hypercube[2]))\n",
    "    prior.append(UniformPrior(100,200)(hypercube[3]))\n",
    "    prior.append(UniformPrior(0.9,1.1)(hypercube[4]))\n",
    "    return prior\n",
    "\n",
    "def unipriorRiess(hypercube):\n",
    "    prior = []\n",
    "    prior.append(GaussianPrior(74.03,1.42)(hypercube[0]))\n",
    "    prior.append(UniformPrior(0.,1.)(hypercube[1]))\n",
    "    prior.append(UniformPrior(0.,1-hypercube[1])(hypercube[2]))\n",
    "    prior.append(UniformPrior(100,200)(hypercube[3]))\n",
    "    prior.append(UniformPrior(0.9,1.1)(hypercube[4]))\n",
    "    return prior"
   ]
  },
  {
   "cell_type": "code",
   "execution_count": 22,
   "metadata": {},
   "outputs": [],
   "source": [
    "settingsBAO = PolyChordSettings(5,3)\n",
    "settingsBAO.file_root = 'LCDMBAOf_100'\n",
    "settingsBAO.nlive = runs\n",
    "settingsBAO.do_clustering = True\n",
    "settingsBAO.read_resume = False\n",
    "\n",
    "settingsBAOR = PolyChordSettings(5,3)\n",
    "settingsBAOR.file_root = 'LCDMBAORf_100'\n",
    "settingsBAOR.nlive = runs\n",
    "settingsBAOR.do_clustering = True\n",
    "settingsBAOR.read_resume = False\n",
    "\n",
    "settingsHDR = PolyChordSettings(5,3)\n",
    "settingsHDR.file_root = 'LCDMHDRf_100'\n",
    "settingsHDR.nlive = runs\n",
    "settingsHDR.do_clustering = True\n",
    "settingsHDR.read_resume = False\n",
    "\n",
    "settingsTot = PolyChordSettings(5,3)\n",
    "settingsTot.file_root = 'LCDMTotf_100'\n",
    "settingsTot.nlive = runs\n",
    "settingsTot.do_clustering = True\n",
    "settingsTot.read_resume = False\n",
    "\n",
    "settingsTotR = PolyChordSettings(5,3)\n",
    "settingsTotR.file_root = 'LCDMTotRf_100'\n",
    "settingsTotR.nlive = runs\n",
    "settingsTotR.do_clustering = True\n",
    "settingsTotR.read_resume = False"
   ]
  },
  {
   "cell_type": "code",
   "execution_count": 23,
   "metadata": {},
   "outputs": [
    {
     "name": "stdout",
     "output_type": "stream",
     "text": [
      "Last dead point: [ 8.03036503e+01  4.19556790e-01  3.95620780e-01  1.31619048e+02\n",
      "  9.31465507e-01  1.64897065e+03  1.37414221e+02  0.00000000e+00\n",
      " -4.00412229e+03 -1.64897065e+03]\n",
      "Last dead point: [ 5.69770263e+01  6.55065139e-01  3.01980800e-01  1.17078274e+02\n",
      "  1.00245870e+00  6.94858550e+02  5.79048792e+01  0.00000000e+00\n",
      " -1.00000000e+30 -6.94858550e+02]\n",
      "Last dead point: [ 5.70434296e+01  9.19707228e-01  8.37781754e-03  1.20353626e+02\n",
      "  1.01500035e+00  4.52976841e+02  3.77480701e+01  0.00000000e+00\n",
      " -7.35732984e+02 -4.52976841e+02]\n",
      "Last dead point: [ 5.85044183e+01  6.77735931e-01  2.48287601e-01  1.37762020e+02\n",
      "  9.87219145e-01  3.04278195e+02  2.53565163e+01  0.00000000e+00\n",
      " -3.49441493e+02 -3.04278195e+02]\n",
      "Last dead point: [  67.05812858    0.32014425    0.5922115   126.73455246    0.91363733\n",
      "  201.27131334   16.77260944    0.         -238.0433942  -201.27131334]\n",
      "Last dead point: [  62.31285864    0.51065707    0.46577383  141.50724877    1.01323864\n",
      "  124.0652694    10.33877245    0.         -144.65217007 -124.0652694 ]\n",
      "Last dead point: [ 6.51095437e+01  2.83922510e-01  7.08595741e-01  1.44224757e+02\n",
      "  1.07963015e+00  7.67761198e+01  6.39800998e+00  1.69378955e-11\n",
      " -7.81118217e+01 -7.67761198e+01]\n",
      "Last dead point: [ 6.56676445e+01  1.21954746e-01  8.15442960e-01  1.58361617e+02\n",
      "  1.02117966e+00  4.47606486e+01  3.73005405e+00  1.13247016e-05\n",
      " -4.73241880e+01 -4.47606486e+01]\n",
      "Last dead point: [ 6.58718432e+01  2.22465610e-01  7.36822996e-01  1.50928096e+02\n",
      "  1.05297238e+00  2.89477199e+01  2.41230999e+00  4.01101619e-03\n",
      " -3.36942281e+01 -2.89477199e+01]\n",
      "Last dead point: [ 7.84169831e+01  2.22211141e-01  7.69238146e-01  1.32523545e+02\n",
      "  9.30845486e-01  2.11749787e+01  1.76458156e+00  4.78761285e-02\n",
      " -2.95675873e+01 -2.11749787e+01]\n",
      "Last dead point: [ 7.45915681e+01  1.32743733e-01  8.26999513e-01  1.43693833e+02\n",
      "  9.77572423e-01  1.61811000e+01  1.34842500e+00  1.83081456e-01\n",
      " -1.84453719e+01 -1.61811000e+01]\n",
      "Last dead point: [ 70.23489819   0.24164267   0.74226827 146.09612375   0.96693913\n",
      "  13.39676426   1.11639702   0.34087355 -23.73467659 -13.39676426]\n",
      "Last dead point: [ 65.41590072   0.25187361   0.73748846 156.35779967   1.04226056\n",
      "  11.72065686   0.97672141   0.46836686 -12.37456851 -11.72065686]\n",
      "Last dead point: [ 75.77235801   0.25539317   0.73640709 134.48763986   0.92166276\n",
      "  10.55046687   0.87920557   0.56778461 -12.42744377 -10.55046687]\n",
      "Last dead point: [ 72.29201235   0.23117484   0.75608317 143.54316757   0.9649968\n",
      "   9.8458007    0.82048339   0.62948643 -10.10745597  -9.8458007 ]\n",
      "Last dead point: [ 66.50472153   0.2678223    0.72735086 155.21509369   1.04844768\n",
      "   9.33325624   0.77777135   0.67423309  -9.58228218  -9.33325624]\n",
      "Last dead point: [ 66.70088797   0.27183024   0.72709087 154.03026578   1.04516191\n",
      "   9.02488087   0.75207341   0.70080382  -9.66809199  -9.02488087]\n",
      "Last dead point: [ 73.41048751   0.27541444   0.72267686 139.88771597   0.94844639\n",
      "   8.83988365   0.73665697   0.71654226  -9.28032096  -8.83988365]\n",
      "Last dead point: [ 69.25816613   0.28270124   0.71645994 147.13299629   0.99748757\n",
      "   8.7193756    0.72661463   0.72669417  -8.78034708  -8.7193756 ]\n",
      "Last dead point: [ 65.51605087   0.28039268   0.71866529 156.82303752   1.05604632\n",
      "   8.62549916   0.7187916    0.73454103  -8.63772742  -8.62549916]\n",
      "Last dead point: [ 70.36478073   0.28156597   0.71786912 145.24871369   0.98101164\n",
      "   8.57222573   0.71435214   0.73896826  -8.58370754  -8.57222573]\n",
      "Last dead point: [ 63.09757799   0.28203666   0.71778893 162.40201364   1.09431586\n",
      "   8.4931141    0.70775951   0.74550635  -8.56279206  -8.4931141 ]\n"
     ]
    }
   ],
   "source": [
    "outputBAO = pypolychord.run_polychord(lnlikeBAO, 5,3, settingsBAO, uniprior, dumper)"
   ]
  },
  {
   "cell_type": "markdown",
   "metadata": {},
   "source": [
    "outputBAOR = pypolychord.run_polychord(lnlikeBAO, 6,3, settingsBAOR, unipriorRiess, dumper)"
   ]
  },
  {
   "cell_type": "code",
   "execution_count": 24,
   "metadata": {},
   "outputs": [
    {
     "name": "stdout",
     "output_type": "stream",
     "text": [
      "Last dead point: [ 9.36433408e+01  4.49167962e-02  6.50325205e-01  1.19011972e+02\n",
      "  1.00684122e+00  3.80573310e+03  1.42004966e+01  0.00000000e+00\n",
      " -4.55538066e+03 -3.80573310e+03]\n",
      "Last dead point: [ 6.48276341e+01  8.83031125e-01  9.76495393e-02  1.34756755e+02\n",
      "  1.00793288e+00  2.23293382e+03  8.33184261e+00  0.00000000e+00\n",
      " -2.58678499e+03 -2.23293382e+03]\n",
      "Last dead point: [ 5.41180997e+01  3.44274730e-01  5.85677426e-01  1.32237206e+02\n",
      "  1.00806819e+00  1.40726167e+03  5.25097640e+00  0.00000000e+00\n",
      " -2.45870979e+03 -1.40726167e+03]\n",
      "Last dead point: [ 7.60711350e+01  2.23837639e-01  6.81477933e-01  1.05057529e+02\n",
      "  9.68209091e-01  8.52840971e+02  3.18224243e+00  0.00000000e+00\n",
      " -1.25763407e+03 -8.52840971e+02]\n",
      "Last dead point: [ 6.65312039e+01  3.85626215e-01  5.95743050e-01  1.27013568e+02\n",
      "  9.11904254e-01  5.55978986e+02  2.07454845e+00  0.00000000e+00\n",
      " -1.83441741e+03 -5.55978986e+02]\n",
      "Last dead point: [ 7.14707056e+01  3.34483095e-03  8.62260248e-01  1.44629595e+02\n",
      "  1.08582424e+00  4.28011454e+02  1.59705767e+00  1.76349535e-09\n",
      " -4.52296971e+02 -4.28011454e+02]\n",
      "Last dead point: [ 7.52176081e+01  1.32955708e-01  8.11643128e-01  1.38971649e+02\n",
      "  1.05905296e+00  3.61603925e+02  1.34926838e+00  1.17599264e-04\n",
      " -1.09023122e+03 -3.61603925e+02]\n",
      "Last dead point: [ 7.04364567e+01  9.61131259e-02  8.30481424e-01  1.50351227e+02\n",
      "  9.63911699e-01  3.15972563e+02  1.17900210e+00  2.33864671e-02\n",
      " -3.19853473e+02 -3.15972563e+02]\n",
      "Last dead point: [ 6.99687914e+01  1.40313134e-01  7.91829822e-01  1.46673484e+02\n",
      "  1.02722474e+00  2.91779155e+02  1.08872819e+00  1.52257214e-01\n",
      " -3.18305208e+02 -2.91779155e+02]\n",
      "Last dead point: [ 7.58345423e+01  2.27463856e-01  7.60960185e-01  1.35360347e+02\n",
      "  9.54383459e-01  2.78093475e+02  1.03766222e+00  3.22999612e-01\n",
      " -2.84090917e+02 -2.78093475e+02]\n",
      "Last dead point: [ 7.57141361e+01  2.05111901e-01  7.69697652e-01  1.37972170e+02\n",
      "  9.31197899e-01  2.69750768e+02  1.00653271e+00  4.58488363e-01\n",
      " -2.76930512e+02 -2.69750768e+02]\n",
      "Last dead point: [  68.82153753    0.28161664    0.71601429  148.57408388    1.04586951\n",
      "  263.02958353    0.98145367    0.57424243 -268.31245793 -263.02958353]\n",
      "Last dead point: [  69.77479211    0.26757354    0.71710373  143.3694541     0.9711839\n",
      "  258.97883013    0.96633892    0.6425312  -261.8345081  -258.97883013]\n",
      "Last dead point: [  71.64917913    0.29423839    0.70403788  140.99634281    0.95461818\n",
      "  256.58560714    0.95740898    0.68128715 -259.53767248 -256.58560714]\n",
      "Last dead point: [  69.73542504    0.27959747    0.71277804  146.19686069    0.97489933\n",
      "  255.08032917    0.95179227    0.70483399 -261.90619756 -255.08032917]\n",
      "Last dead point: [  68.60745338    0.28678312    0.70879817  147.44383156    1.00527531\n",
      "  254.08198346    0.9480671     0.72004436 -256.04005103 -254.08198346]\n",
      "Last dead point: [  68.13096957    0.282346      0.71357026  149.41485146    1.0116254\n",
      "  253.44516706    0.94569092    0.72956418 -253.81015702 -253.44516706]\n",
      "Last dead point: [  68.59267577    0.27608611    0.71992773  148.47926207    1.00307854\n",
      "  252.97304947    0.94392929    0.73652605 -253.37127539 -252.97304947]\n",
      "Last dead point: [  70.55069902    0.26753782    0.72480617  144.98835366    0.9770225\n",
      "  252.68867845    0.9428682     0.74067894 -252.69618974 -252.68867845]\n",
      "Last dead point: [  70.5567723     0.28415254    0.71521138  145.17370985    0.97407048\n",
      "  252.49651193    0.94215116    0.74346779 -252.63074983 -252.49651193]\n",
      "Last dead point: [  69.72249278    0.28423959    0.7146338   147.11410725    0.98628879\n",
      "  252.38405684    0.94173156    0.74509318 -252.39284499 -252.38405684]\n",
      "Last dead point: [  69.35785594    0.28140384    0.71762104  147.91472377    0.99866128\n",
      "  252.28411321    0.94135863    0.74653361 -252.28905213 -252.28411321]\n",
      "Last dead point: [  69.63373594    0.27604313    0.72062819  146.66979922    0.99064032\n",
      "  252.22291483    0.94113028    0.7474137  -252.26966685 -252.22291483]\n",
      "Last dead point: [  69.79589005    0.2799158     0.71841614  146.6399565     0.98944305\n",
      "  252.09710134    0.94066083    0.7492184  -252.23622501 -252.09710134]\n"
     ]
    }
   ],
   "source": [
    "outputTot = pypolychord.run_polychord(lnlikeTot, 5,3, settingsTot, uniprior, dumper)"
   ]
  },
  {
   "cell_type": "code",
   "execution_count": 25,
   "metadata": {},
   "outputs": [
    {
     "name": "stdout",
     "output_type": "stream",
     "text": [
      "Last dead point: [ 7.42624643e+01  9.36648423e-01  6.13625436e-03  1.29376929e+02\n",
      "  1.06127602e+00  4.11824690e+03  1.53665929e+01  0.00000000e+00\n",
      " -5.89388340e+03 -4.11824690e+03]\n",
      "Last dead point: [ 7.15102038e+01  9.33029642e-02  5.40473020e-01  1.28387024e+02\n",
      "  9.20102953e-01  2.33639855e+03  8.71790504e+00  0.00000000e+00\n",
      " -4.04196522e+03 -2.33639855e+03]\n",
      "Last dead point: [ 7.61393652e+01  1.28809238e-01  8.31591928e-01  1.87487631e+02\n",
      "  9.62737446e-01  1.24966340e+03  4.66292313e+00  0.00000000e+00\n",
      " -3.47800902e+03 -1.24966340e+03]\n",
      "Last dead point: [ 7.13448837e+01  1.44353686e-02  8.21139184e-01  1.16533864e+02\n",
      "  1.07928679e+00  7.73941111e+02  2.88783997e+00  0.00000000e+00\n",
      " -1.26637244e+03 -7.73941111e+02]\n",
      "Last dead point: [ 7.53322341e+01  3.24012522e-01  6.66490984e-01  1.23698351e+02\n",
      "  1.06203927e+00  4.95822709e+02  1.85008473e+00  8.88178420e-16\n",
      " -7.18217943e+02 -4.95822709e+02]\n",
      "Last dead point: [ 7.52486780e+01  3.20897729e-01  6.78737959e-01  1.43914552e+02\n",
      "  9.71775894e-01  3.90206681e+02  1.45599508e+00  1.52811511e-06\n",
      " -4.17911745e+02 -3.90206681e+02]\n",
      "Last dead point: [ 7.33107025e+01  5.65267400e-02  8.69902010e-01  1.44695838e+02\n",
      "  1.01789841e+00  3.42560472e+02  1.27821072e+00  1.39140975e-03\n",
      " -3.89176576e+02 -3.42560472e+02]\n",
      "Last dead point: [ 7.22207485e+01  1.65199165e-01  7.65132462e-01  1.37608361e+02\n",
      "  9.94745490e-01  3.10052807e+02  1.15691346e+00  3.94002915e-02\n",
      " -3.21129855e+02 -3.10052807e+02]\n",
      "Last dead point: [ 7.43551332e+01  2.01021416e-01  7.63735263e-01  1.34451394e+02\n",
      "  9.88927088e-01  2.90349855e+02  1.08339498e+00  1.66429511e-01\n",
      " -3.03154117e+02 -2.90349855e+02]\n",
      "Last dead point: [  72.40345118    0.28905223    0.70495273  141.87030304    0.90358556\n",
      "  276.33739509    1.03110968    0.35005224 -278.10759669 -276.33739509]\n",
      "Last dead point: [ 7.47738457e+01  2.46517766e-01  7.52224447e-01  1.41717072e+02\n",
      "  9.43250255e-01  2.69571498e+02  1.00586380e+00  4.61548686e-01\n",
      " -2.71465991e+02 -2.69571498e+02]\n",
      "Last dead point: [ 7.23108841e+01  2.44343953e-01  7.45240889e-01  1.39835762e+02\n",
      "  9.87350273e-01  2.65355691e+02  9.90133174e-01  5.34175410e-01\n",
      " -2.69679927e+02 -2.65355691e+02]\n",
      "Last dead point: [ 7.26156132e+01  2.50442403e-01  7.33342452e-01  1.39789854e+02\n",
      "  9.76570664e-01  2.61054943e+02  9.74085610e-01  6.07861051e-01\n",
      " -2.80067216e+02 -2.61054943e+02]\n",
      "Last dead point: [ 7.22576257e+01  2.67040354e-01  7.32350422e-01  1.44650418e+02\n",
      "  9.81883164e-01  2.58986691e+02  9.66368251e-01  6.42401564e-01\n",
      " -2.69486782e+02 -2.58986691e+02]\n",
      "Last dead point: [  72.17202662    0.26174649    0.7316212   144.52298433    0.9499063\n",
      "  257.3468383     0.9602494     0.66912259 -257.6283477  -257.3468383 ]\n",
      "Last dead point: [  72.13316149    0.2828146     0.71382984  140.56477942    0.96334428\n",
      "  255.95863714    0.95506954    0.69118003 -256.29648396 -255.95863714]\n",
      "Last dead point: [  71.27753215    0.27582923    0.71744084  141.57644911    0.96220886\n",
      "  255.03687792    0.95163014    0.70550301 -258.23619173 -255.03687792]\n",
      "Last dead point: [  70.68446765    0.29163357    0.70695975  144.07410611    0.97757827\n",
      "  254.22082749    0.94858518    0.71794955 -254.39410925 -254.22082749]\n",
      "Last dead point: [  71.48791577    0.26284721    0.73155752  144.45160129    0.97083171\n",
      "  253.6044973     0.94628544    0.72719609 -254.58696746 -253.6044973 ]\n",
      "Last dead point: [  70.92647321    0.28348902    0.71638585  144.55134085    0.98258485\n",
      "  253.1580854     0.94461972    0.7338074  -253.79147817 -253.1580854 ]\n",
      "Last dead point: [  71.14584004    0.27305745    0.72225864  143.88817293    0.96843482\n",
      "  252.88450196    0.94359889    0.73782247 -252.94856944 -252.88450196]\n",
      "Last dead point: [  70.42506377    0.26678413    0.72820603  145.77564523    0.97970586\n",
      "  252.66875734    0.94279387    0.74096871 -252.86535414 -252.66875734]\n",
      "Last dead point: [  70.77498663    0.2788334     0.71899502  144.42973303    0.97800953\n",
      "  252.50644689    0.94218823    0.74332395 -252.76691887 -252.50644689]\n",
      "Last dead point: [  69.74151531    0.28755626    0.71167012  146.31209861    0.98773084\n",
      "  252.37433476    0.94169528    0.74523347 -252.51040051 -252.37433476]\n",
      "Last dead point: [  69.92672828    0.27730538    0.72001441  146.44857458    0.98780087\n",
      "  252.1172866     0.94073614    0.74892928 -252.36381486 -252.1172866 ]\n"
     ]
    }
   ],
   "source": [
    "outputTotR = pypolychord.run_polychord(lnlikeTot, 5,3, settingsTotR, unipriorRiess, dumper)"
   ]
  },
  {
   "cell_type": "code",
   "execution_count": 26,
   "metadata": {},
   "outputs": [
    {
     "name": "stdout",
     "output_type": "stream",
     "text": [
      "Last dead point: [ 7.14351841e+01  5.01375582e-01  2.31255552e-01  1.38009323e+02\n",
      "  1.04691188e+00  2.05484359e+03  1.71236966e+02  0.00000000e+00\n",
      " -4.76667713e+03 -2.05484359e+03]\n",
      "Last dead point: [ 7.54644079e+01  9.51456430e-01  4.11761523e-02  1.10043581e+02\n",
      "  1.01609351e+00  8.40963186e+02  7.00802655e+01  0.00000000e+00\n",
      " -1.29717848e+03 -8.40963186e+02]\n",
      "Last dead point: [ 7.42182843e+01  4.43758048e-01  5.06299233e-01  1.34606651e+02\n",
      "  1.02484305e+00  5.05069128e+02  4.20890940e+01  0.00000000e+00\n",
      " -5.51955629e+02 -5.05069128e+02]\n",
      "Last dead point: [ 7.48895967e+01  3.40338980e-01  6.19647698e-01  1.28197349e+02\n",
      "  1.08916920e+00  3.16338718e+02  2.63615598e+01  0.00000000e+00\n",
      " -3.86331647e+02 -3.16338718e+02]\n",
      "Last dead point: [ 7.48964227e+01  9.92784193e-02  7.99376591e-01  1.39487276e+02\n",
      "  1.00381088e+00  1.51661111e+02  1.26384259e+01  0.00000000e+00\n",
      " -1.71232870e+02 -1.51661111e+02]\n",
      "Last dead point: [ 7.53127535e+01  2.19300100e-01  7.27742692e-01  1.34255206e+02\n",
      "  9.66551641e-01  7.72145839e+01  6.43454866e+00  1.39851464e-11\n",
      " -3.42237034e+02 -7.72145839e+01]\n",
      "Last dead point: [ 7.57307332e+01  2.07655207e-01  7.77291164e-01  1.39058212e+02\n",
      "  1.00948330e+00  4.47803414e+01  3.73169511e+00  1.12371798e-05\n",
      " -3.17791183e+02 -4.47803414e+01]\n",
      "Last dead point: [ 7.50407677e+01  1.97855821e-01  7.96768097e-01  1.45432584e+02\n",
      "  9.36834014e-01  2.92144344e+01  2.43453620e+00  3.66107655e-03\n",
      " -3.02539616e+01 -2.92144344e+01]\n",
      "Last dead point: [ 7.23646867e+01  2.95980695e-01  6.89454477e-01  1.36660624e+02\n",
      "  9.54109142e-01  2.05321847e+01  1.71101539e+00  5.76650823e-02\n",
      " -2.06520579e+01 -2.05321847e+01]\n",
      "Last dead point: [ 75.56004814   0.24937566   0.73661431 137.51904825   0.94048952\n",
      "  15.93165777   1.32763815   0.19438635 -23.30695512 -15.93165777]\n",
      "Last dead point: [  76.04251124    0.22434861    0.76174622  138.22430743    0.90696236\n",
      "   12.49832493    1.04152708    0.40653254 -117.22339395  -12.49832493]\n",
      "Last dead point: [ 74.73484071   0.28216377   0.70978999 136.01936287   0.91246026\n",
      "  11.20043533   0.93336961   0.511824   -12.99450679 -11.20043533]\n",
      "Last dead point: [ 73.68224543   0.28585146   0.71256299 139.8936388    0.92776586\n",
      "  10.3124237    0.85936864   0.58857251 -10.50864981 -10.3124237 ]\n",
      "Last dead point: [ 72.24002191   0.28856934   0.7099141  141.24623366   0.941658\n",
      "   9.57884173   0.79823681   0.6528547   -9.92779528  -9.57884173]\n",
      "Last dead point: [ 74.34912892   0.26478808   0.73224968 139.53185908   0.93780227\n",
      "   9.21661878   0.76805157   0.6843254   -9.26422431  -9.21661878]\n",
      "Last dead point: [ 72.91062419   0.27738797   0.71904082 139.89276796   0.94269385\n",
      "   8.93592961   0.7446608    0.70839295  -8.97634218  -8.93592961]\n",
      "Last dead point: [ 73.18017696   0.27106412   0.72620878 140.15147956   0.94568264\n",
      "   8.76176616   0.73014718   0.72313282  -8.83311399  -8.76176616]\n",
      "Last dead point: [ 72.5057612    0.2773382    0.72094467 141.14473537   0.95177004\n",
      "   8.64477908   0.72039826   0.73293411  -9.06073073  -8.64477908]\n",
      "Last dead point: [ 72.22330543   0.28196408   0.71658594 141.66851975   0.95515651\n",
      "   8.57791504   0.71482625   0.73849637  -8.5816852   -8.57791504]\n",
      "Last dead point: [ 74.78788276   0.27968845   0.71934072 137.02175205   0.92309433\n",
      "   8.54001497   0.71166791   0.74163564  -8.54674615  -8.54001497]\n",
      "Last dead point: [ 73.56958194   0.28424475   0.71568455 139.13576042   0.93840482\n",
      "   8.47969813   0.70664151   0.74661063  -8.64648096  -8.47969813]\n"
     ]
    }
   ],
   "source": [
    "outputBAOR = pypolychord.run_polychord(lnlikeBAO, 5,3, settingsBAOR, unipriorRiess, dumper)"
   ]
  },
  {
   "cell_type": "code",
   "execution_count": 27,
   "metadata": {},
   "outputs": [
    {
     "name": "stderr",
     "output_type": "stream",
     "text": [
      "WARNING:root:outlier fraction 0.12407407407407407 \n",
      "WARNING:root:outlier fraction 0.13625 \n",
      "WARNING:root:outlier fraction 0.12684365781710916 \n",
      "WARNING:root:outlier fraction 0.021658742736397254 \n"
     ]
    },
    {
     "name": "stdout",
     "output_type": "stream",
     "text": [
      "chains/LCDMBAOf_100.txt\n",
      "Removed no burn in\n",
      "chains/LCDMBAORf_100.txt\n",
      "Removed no burn in\n",
      "chains/LCDMTotf_100.txt\n",
      "Removed no burn in\n",
      "chains/LCDMTotRf_100.txt\n",
      "Removed no burn in\n"
     ]
    }
   ],
   "source": [
    "paramnames = [('h0','H_0 (km s^{-1} Mpc^{-1})'),('om', '\\Omega_m'),('ol', r'\\Omega_\\Lambda'), ('rd','r_d (Mpc)'),('rat','rat'),('L',r'L'),('Ldof',r'L/Dof'),('p','p')]\n",
    "outputBAO.make_paramnames_files(paramnames)\n",
    "outputBAOR.make_paramnames_files(paramnames)\n",
    "outputTot.make_paramnames_files(paramnames)\n",
    "outputTotR.make_paramnames_files(paramnames)\n",
    "\n",
    "posteriorBAO = outputBAO.posterior\n",
    "posteriorBAOR = outputBAOR.posterior\n",
    "posteriorTot = outputTot.posterior\n",
    "posteriorTotR = outputTotR.posterior"
   ]
  },
  {
   "cell_type": "code",
   "execution_count": 28,
   "metadata": {},
   "outputs": [
    {
     "data": {
      "text/plain": [
       "((0.11817659277852932, 0.3391727780472637),\n",
       " (0.662206185505103, 0.838704311430148))"
      ]
     },
     "execution_count": 28,
     "metadata": {},
     "output_type": "execute_result"
    },
    {
     "data": {
      "image/png": "[encoded data removed]",
      "text/plain": [
       "<Figure size 432x366.102 with 1 Axes>"
      ]
     },
     "metadata": {
      "needs_background": "light"
     },
     "output_type": "display_data"
    }
   ],
   "source": [
    "import getdist.plots\n",
    "%matplotlib inline\n",
    "g = plots.get_single_plotter(width_inch=6, ratio=1/1.18)\n",
    "g.plot_2d([posteriorBAO,posteriorBAOR,posteriorTot,posteriorTotR], ('om','ol'),filled=True)\n",
    "#g.export('OmOl_f.pdf')"
   ]
  },
  {
   "cell_type": "code",
   "execution_count": 29,
   "metadata": {},
   "outputs": [
    {
     "data": {
      "image/png": "[encoded data removed]",
      "text/plain": [
       "<Figure size 432x432 with 6 Axes>"
      ]
     },
     "metadata": {
      "needs_background": "light"
     },
     "output_type": "display_data"
    }
   ],
   "source": [
    "g = getdist.plots.getSubplotPlotter()\n",
    "g.triangle_plot([posteriorBAO,posteriorBAOR,posteriorTot,posteriorTotR], ('h0','om','ol') ,filled=True, legend_labels=[r'BAO',r'BAO + R19',r'CC + BAO + SC',r'CC + SC + BAO + R19'])\n",
    "#g.export('LCDMrdl_f.pdf')"
   ]
  },
  {
   "cell_type": "code",
   "execution_count": 30,
   "metadata": {},
   "outputs": [
    {
     "data": {
      "text/plain": [
       "<matplotlib.legend.Legend at 0x7f4ac9b213d0>"
      ]
     },
     "execution_count": 30,
     "metadata": {},
     "output_type": "execute_result"
    },
    {
     "data": {
      "image/png": "[encoded data removed]",
      "text/plain": [
       "<Figure size 432x366.102 with 1 Axes>"
      ]
     },
     "metadata": {
      "needs_background": "light"
     },
     "output_type": "display_data"
    }
   ],
   "source": [
    "%matplotlib inline\n",
    "g = plots.get_single_plotter(width_inch=6, ratio=1/1.18)\n",
    "g.plot_2d([posteriorBAO,posteriorBAOR,posteriorTot,posteriorTotR], ('h0','om'),filled=True)\n",
    "g.add_legend([r'BAO',r'BAO + R19',r'CC + BAO + SC',r'CC + SC + BAO + R19'], legend_loc='lower left')\n",
    "#g.export('Omh0l_f.pdf')"
   ]
  },
  {
   "cell_type": "code",
   "execution_count": 31,
   "metadata": {},
   "outputs": [
    {
     "data": {
      "text/plain": [
       "<matplotlib.legend.Legend at 0x7f4ac99d8c90>"
      ]
     },
     "execution_count": 31,
     "metadata": {},
     "output_type": "execute_result"
    },
    {
     "data": {
      "image/png": "[encoded data removed]",
      "text/plain": [
       "<Figure size 432x366.102 with 1 Axes>"
      ]
     },
     "metadata": {
      "needs_background": "light"
     },
     "output_type": "display_data"
    }
   ],
   "source": [
    "%matplotlib inline\n",
    "g = plots.get_single_plotter(width_inch=6, ratio=1/1.18)\n",
    "g.plot_2d([posteriorBAO,posteriorBAOR,posteriorTot,posteriorTotR], ('h0','rd'),filled=True)\n",
    "g.add_legend([r'BAO',r'BAO + R19',r'CC + SC + BAO',r'CC + SC + BAO + R19'], legend_loc='lower left')\n",
    "#g.export('h0rdl_f.pdf')"
   ]
  },
  {
   "cell_type": "code",
   "execution_count": 32,
   "metadata": {},
   "outputs": [
    {
     "data": {
      "text/plain": [
       "<matplotlib.legend.Legend at 0x7f4ac9903fd0>"
      ]
     },
     "execution_count": 32,
     "metadata": {},
     "output_type": "execute_result"
    },
    {
     "data": {
      "image/png": "[encoded data removed]",
      "text/plain": [
       "<Figure size 432x366.102 with 1 Axes>"
      ]
     },
     "metadata": {
      "needs_background": "light"
     },
     "output_type": "display_data"
    }
   ],
   "source": [
    "%matplotlib inline\n",
    "g = plots.get_single_plotter(width_inch=6, ratio=1/1.18)\n",
    "g.plot_2d([posteriorBAO,posteriorBAOR,posteriorTot,posteriorTotR], ('h0','rd'),filled=True)\n",
    "g.add_legend([r'BAO',r'BAO + R19',r'CC + SC + BAO',r'CC + SC + BAO + R19'], legend_loc='lower left')\n",
    "#g.export('h0l_f.pdf')"
   ]
  },
  {
   "cell_type": "code",
   "execution_count": 33,
   "metadata": {},
   "outputs": [
    {
     "name": "stdout",
     "output_type": "stream",
     "text": [
      "BAO\n",
      "H_0 (km s^{-1} Mpc^{-1}) = 69.089209 +/- 4.396874 +/- 6.252595\n",
      "\\Omega_m = 0.256796 +/- 0.025772 +/- 0.069423\n",
      "\\Omega_\\Lambda = 0.734631 +/- 0.020888 +/- 0.038211\n",
      "r_d (Mpc) = 149.504236 +/- 10.037166 +/- 15.212831\n",
      "rat = 1.008382 +/- 0.066344 +/- 0.101188\n",
      "L = 10.811795 +/- 1.446642 +/- 1.984597\n",
      "L/Dof = 0.900983 +/- 0.120553 +/- 0.165383\n",
      "p = 0.550075 +/- 0.123738 +/- 0.269106\n",
      "BAOR\n",
      "H_0 (km s^{-1} Mpc^{-1}) = 73.906596 +/- 1.357697 +/- 2.788642\n",
      "\\Omega_m = 0.254859 +/- 0.026912 +/- 0.068716\n",
      "\\Omega_\\Lambda = 0.736400 +/- 0.021510 +/- 0.034343\n",
      "r_d (Mpc) = 139.447508 +/- 2.914639 +/- 5.883881\n",
      "rat = 0.940599 +/- 0.020806 +/- 0.037308\n",
      "L = 10.732823 +/- 1.332081 +/- 1.934350\n",
      "L/Dof = 0.894402 +/- 0.111007 +/- 0.161196\n",
      "p = 0.555828 +/- 0.115208 +/- 0.244826\n",
      "Tot\n",
      "H_0 (km s^{-1} Mpc^{-1}) = 69.854848 +/- 1.259100 +/- 2.386935\n",
      "\\Omega_m = 0.268654 +/- 0.012822 +/- 0.028134\n",
      "\\Omega_\\Lambda = 0.724585 +/- 0.009373 +/- 0.016999\n",
      "r_d (Mpc) = 146.543556 +/- 2.598566 +/- 5.101856\n",
      "rat = 0.990266 +/- 0.019826 +/- 0.035810\n",
      "L = 254.538726 +/- 1.448874 +/- 2.027649\n",
      "L/Dof = 0.949771 +/- 0.005406 +/- 0.007566\n",
      "p = 0.712755 +/- 0.020412 +/- 0.058326\n",
      "TotR\n",
      "H_0 (km s^{-1} Mpc^{-1}) = 71.616475 +/- 1.003940 +/- 1.936192\n",
      "\\Omega_m = 0.264407 +/- 0.013179 +/- 0.030224\n",
      "\\Omega_\\Lambda = 0.728562 +/- 0.009532 +/- 0.018197\n",
      "r_d (Mpc) = 143.299915 +/- 2.218062 +/- 4.358875\n",
      "rat = 0.967284 +/- 0.015101 +/- 0.030444\n",
      "L = 255.492179 +/- 1.870171 +/- 2.703733\n",
      "L/Dof = 0.953329 +/- 0.006978 +/- 0.010089\n",
      "p = 0.697909 +/- 0.030031 +/- 0.072124\n"
     ]
    }
   ],
   "source": [
    "def get_constraints(samples):\n",
    "    for i, mean in enumerate(samples.getMeans()):\n",
    "        upper = samples.confidence(i, upper=True, limfrac=0.05)\n",
    "        #print(\"\\nupper limit 95 C.L. = %f\" % upper)\n",
    "        lower = samples.confidence(i, upper=False, limfrac=0.05)\n",
    "        #print(\"lower limit 95 C.L. = %f\" % lower)\n",
    "        print(\"%s = %f +/- %f +/- %f\" % (samples.parLabel(i),\\\n",
    "\n",
    "        mean, mean - samples.confidence(i, limfrac=0.16),\\\n",
    "        mean - samples.confidence(i, limfrac=0.025)) )\n",
    "    return\n",
    "for i in [\"BAO\",\"BAOR\", \"Tot\", \"TotR\"]:\n",
    "    print(i)\n",
    "    get_constraints(eval(\"posterior\"+i))"
   ]
  },
  {
   "cell_type": "code",
   "execution_count": 7,
   "metadata": {},
   "outputs": [
    {
     "data": {
      "text/plain": [
       "([264.538726, 264.7634451011236], 266.7195392352038)"
      ]
     },
     "execution_count": 7,
     "metadata": {},
     "output_type": "execute_result"
    }
   ],
   "source": [
    "def AIC_chi2(chi2, p, n):\n",
    "    return [chi2+2*p,chi2+2*p+2*p*(p+1)/(n-p-1)]\n",
    "def BIC_chi2(chi2, p, n):\n",
    "    return chi2+p*np.log10(n)\n",
    "L1=254.538726 \n",
    "n1=273\n",
    "p=5\n",
    "AIC_chi2(L1,p,n1), BIC_chi2(L1,p,n1)"
   ]
  },
  {
   "cell_type": "code",
   "execution_count": 43,
   "metadata": {},
   "outputs": [
    {
     "name": "stdout",
     "output_type": "stream",
     "text": [
      "using 788 rows, 8 parameters; mean weight 0.20780498253582583, tot weight 163.75032623823074\n",
      "Equiv number of single samples (sum w)/max(w): 164.0\n",
      "Effective number of weighted samples (sum w)^2/sum(w^2): 268\n",
      "\n",
      "Marginalised evidence is -22.1323214998841 ± 0.476928773968348\n",
      "using 814 rows, 8 parameters; mean weight 0.13257206465383042, tot weight 107.91366062821797\n",
      "Equiv number of single samples (sum w)/max(w): 108.0\n",
      "Effective number of weighted samples (sum w)^2/sum(w^2): 276\n",
      "\n",
      "Marginalised evidence is -22.1130907953902 ± 0.472198196678831\n",
      "using 874 rows, 8 parameters; mean weight 0.049901632409896396, tot weight 43.61402672624945\n",
      "Equiv number of single samples (sum w)/max(w): 44.0\n",
      "Effective number of weighted samples (sum w)^2/sum(w^2): 213\n",
      "\n",
      "Marginalised evidence is -269.253129750973 ± 0.534187984044834\n",
      "using 927 rows, 8 parameters; mean weight 0.23091276616666573, tot weight 214.05613423649913\n",
      "Equiv number of single samples (sum w)/max(w): 214.0\n",
      "Effective number of weighted samples (sum w)^2/sum(w^2): 372\n",
      "\n",
      "Marginalised evidence is -269.419056679487 ± 0.52097051068067\n"
     ]
    }
   ],
   "source": [
    "import getdist.mcsamples\n",
    "for i in [\"BAO\",\"BAOR\", \"Tot\", \"TotR\"]:\n",
    "    print(eval(\"posterior\"+i).getNumSampleSummaryText())\n",
    "    print('Marginalised evidence is {} ± {}'.format(eval(\"output\"+i).logZ, eval(\"output\"+i).logZerr))"
   ]
  },
  {
   "cell_type": "code",
   "execution_count": null,
   "metadata": {},
   "outputs": [],
   "source": []
  },
  {
   "cell_type": "code",
   "execution_count": null,
   "metadata": {},
   "outputs": [],
   "source": []
  },
  {
   "cell_type": "code",
   "execution_count": null,
   "metadata": {},
   "outputs": [],
   "source": []
  },
  {
   "cell_type": "code",
   "execution_count": null,
   "metadata": {},
   "outputs": [],
   "source": []
  },
  {
   "cell_type": "code",
   "execution_count": 1,
   "metadata": {},
   "outputs": [],
   "source": [
    "#outputBAO"
   ]
  },
  {
   "cell_type": "code",
   "execution_count": 2,
   "metadata": {},
   "outputs": [],
   "source": [
    "#outputBAOR"
   ]
  },
  {
   "cell_type": "code",
   "execution_count": 3,
   "metadata": {},
   "outputs": [],
   "source": [
    "#outputTot"
   ]
  },
  {
   "cell_type": "code",
   "execution_count": 4,
   "metadata": {},
   "outputs": [],
   "source": [
    "#outputTotR"
   ]
  },
  {
   "cell_type": "code",
   "execution_count": null,
   "metadata": {},
   "outputs": [],
   "source": []
  }
 ],
 "metadata": {
  "kernelspec": {
   "display_name": "Python 3",
   "language": "python",
   "name": "python3"
  },
  "language_info": {
   "codemirror_mode": {
    "name": "ipython",
    "version": 3
   },
   "file_extension": ".py",
   "mimetype": "text/x-python",
   "name": "python",
   "nbconvert_exporter": "python",
   "pygments_lexer": "ipython3",
   "version": "3.7.6"
  }
 },
 "nbformat": 4,
 "nbformat_minor": 2
}
